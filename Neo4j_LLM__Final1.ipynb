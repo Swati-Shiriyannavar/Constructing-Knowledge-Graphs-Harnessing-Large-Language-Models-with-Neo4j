{
 "cells": [
  {
   "cell_type": "markdown",
   "metadata": {
    "id": "T4uuzfTe1p3z"
   },
   "source": [
    "#Install Necessary Packages"
   ]
  },
  {
   "cell_type": "code",
   "execution_count": 1,
   "metadata": {
    "colab": {
     "base_uri": "https://localhost:8080/"
    },
    "id": "5x3LkpUztHNU",
    "outputId": "cd41ba1a-6846-4f0e-fbcb-46517be2ac72"
   },
   "outputs": [],
   "source": [
    "# !pip install  langchain langchain-community langchain-openai langchain-experimental wikipedia tiktoken py2neo streamlit neo4j langchain-core\n",
    "#!pip install yfiles_jupyter_graphs --quiet\n",
    "# !pip install yfiles_jupyter_graphs_for_neo4j --quiet\n",
    "# from yfiles_jupyter_graphs import GraphWidget"
   ]
  },
  {
   "cell_type": "markdown",
   "metadata": {
    "id": "CIm5J_jq1x6M"
   },
   "source": [
    "# Load Packages"
   ]
  },
  {
   "cell_type": "markdown",
   "metadata": {
    "id": "E4X2N11S2KyD"
   },
   "source": [
    "## Run Liabraries"
   ]
  },
  {
   "cell_type": "code",
   "execution_count": 2,
   "metadata": {
    "id": "jPIRSGz4tHNV"
   },
   "outputs": [],
   "source": [
    "from langchain_community.graphs import Neo4jGraph\n",
    "from langchain.text_splitter import TokenTextSplitter\n",
    "from langchain_openai import ChatOpenAI\n",
    "from langchain_experimental.graph_transformers import LLMGraphTransformer\n"
   ]
  },
  {
   "cell_type": "markdown",
   "metadata": {
    "id": "XTIxaLgZ2P-a"
   },
   "source": [
    "## Authenticate Online Version"
   ]
  },
  {
   "cell_type": "code",
   "execution_count": 3,
   "metadata": {
    "colab": {
     "base_uri": "https://localhost:8080/"
    },
    "id": "L0nXP1aYtHNW",
    "outputId": "ed479443-4d6b-491b-90f2-69f6ac1ddd58"
   },
   "outputs": [
    {
     "name": "stdout",
     "output_type": "stream",
     "text": [
      "Successfully connected to Neo4j!\n"
     ]
    }
   ],
   "source": [
    "# Using the online version of Neo4j as colab had issue connecting to desktop version\n",
    "from langchain_community.graphs import Neo4jGraph\n",
    "import os\n",
    "from py2neo import Graph\n",
    "os.environ[\"OPENAI_API_KEY\"] = \"OPENAI_KEY\"\n",
    "\n",
    "# No need to set these if you use the explicit parameters below\n",
    "try:\n",
    "    graph = Graph(uri=\"bolt://localhost:7687\", auth=(\"neo4j\", \"12345678\"))\n",
    "except ValueError as e:\n",
    "    print(f\"Error connecting to Neo4j: {e}\")\n",
    "else:\n",
    "    print(\"Successfully connected to Neo4j!\")\n",
    "graph = Neo4jGraph(url=\"bolt://localhost:7687\", username=\"neo4j\", password=\"12345678\")"
   ]
  },
  {
   "cell_type": "markdown",
   "metadata": {
    "id": "xuUxOaLa4XQr"
   },
   "source": [
    "## Using Langchain Data Loader"
   ]
  },
  {
   "cell_type": "markdown",
   "metadata": {
    "id": "JmzYBll12Wu5"
   },
   "source": [
    "### Load Test Data"
   ]
  },
  {
   "cell_type": "code",
   "execution_count": 4,
   "metadata": {
    "colab": {
     "base_uri": "https://localhost:8080/"
    },
    "id": "sGhtLTAStHNW",
    "outputId": "852b259d-daee-4d38-c307-37066febcf33"
   },
   "outputs": [],
   "source": [
    "import PyPDF2\n",
    "from langchain_community.document_loaders import TextLoader\n",
    "from langchain.text_splitter import CharacterTextSplitter\n",
    "from langchain_openai import OpenAIEmbeddings\n",
    "from langchain_community.vectorstores import Neo4jVector\n",
    "\n",
    "pdf_file = \"Financial_report.pdf\"\n",
    "\n",
    "# Extract text from PDF using pdfminer.six\n",
    "from pdfminer.high_level import extract_text\n",
    "text = extract_text(pdf_file)\n",
    "\n",
    "# Write text to a file\n",
    "text_path = \"extracted_text.txt\"\n",
    "with open(text_path, 'w', encoding='utf-8') as text_file:\n",
    "    text_file.write(text)\n",
    "\n",
    "# Load text from the file\n",
    "loader = TextLoader(text_path)\n",
    "documents = loader.load()\n",
    "\n",
    "\n",
    "# from langchain.document_loaders import TextLoader\n",
    "# text_loader = TextLoader(\"Code for Graphs.txt\")  # Replace with your file path\n",
    "# documents = text_loader.load()\n",
    "# documents[0]"
   ]
  },
  {
   "cell_type": "code",
   "execution_count": 5,
   "metadata": {
    "id": "IzOxyA4Mxtrv"
   },
   "outputs": [],
   "source": [
    "# Define chunking strategy\n",
    "text_splitter = TokenTextSplitter(chunk_size=80, chunk_overlap=10)\n",
    "documents = text_splitter.split_documents(documents[:3])"
   ]
  },
  {
   "cell_type": "markdown",
   "metadata": {
    "id": "kphZMjjVuGAM"
   },
   "source": [
    "Now it's time to construct a graph based on the retrieved documents. For this purpose, we have implemented an `LLMGraphTransformermodule` that significantly simplifies constructing and storing a knowledge graph in a graph database."
   ]
  },
  {
   "cell_type": "markdown",
   "metadata": {
    "id": "fP7n6kly4a49"
   },
   "source": [
    "## Initiate the LLM"
   ]
  },
  {
   "cell_type": "markdown",
   "metadata": {
    "id": "m5WifxxU4otR"
   },
   "source": [
    "1. yfiles_jupyter_graphs only supports currently function calling models from OpenAI and Mistral"
   ]
  },
  {
   "cell_type": "code",
   "execution_count": 6,
   "metadata": {
    "id": "pXf7OTGHtHNW"
   },
   "outputs": [],
   "source": [
    "llm=ChatOpenAI(temperature=0, model_name=\"gpt-3.5-turbo-0125\") # gpt-4-0125-preview occasionally has issues\n",
    "llm_transformer = LLMGraphTransformer(llm=llm)\n",
    "\n",
    "langchain_graph_documents = llm_transformer.convert_to_graph_documents(documents)"
   ]
  },
  {
   "cell_type": "code",
   "execution_count": null,
   "metadata": {
    "colab": {
     "base_uri": "https://localhost:8080/"
    },
    "id": "vAChdCp-hr52",
    "outputId": "d63745b8-6f78-4a9b-ef35-d92a3fd793db"
   },
   "outputs": [],
   "source": [
    "print(f\"Nodes:{langchain_graph_documents [0].nodes}\")\n",
    "print(f\"Relationships:{langchain_graph_documents [0].relationships}\")"
   ]
  },
  {
   "cell_type": "code",
   "execution_count": null,
   "metadata": {
    "colab": {
     "base_uri": "https://localhost:8080/"
    },
    "id": "8hbjyABtzpQ0",
    "outputId": "2c32b4f3-b0e4-47fa-d4e1-7336a00c3be4"
   },
   "outputs": [],
   "source": [
    "for nodes in langchain_graph_documents [0].nodes:\n",
    "  print(nodes)"
   ]
  },
  {
   "cell_type": "code",
   "execution_count": null,
   "metadata": {
    "id": "wT4k9ZRtzv_x"
   },
   "outputs": [],
   "source": [
    "from py2neo import Graph, Node  # Import Node explicitly"
   ]
  },
  {
   "cell_type": "code",
   "execution_count": null,
   "metadata": {
    "colab": {
     "base_uri": "https://localhost:8080/"
    },
    "id": "fTYnmjVj0eDu",
    "outputId": "23cbbc60-bbb9-4079-895f-619744c9ddc6"
   },
   "outputs": [],
   "source": [
    "print(langchain_graph_documents [0].nodes[0])  # Inspect the first node\n"
   ]
  },
  {
   "cell_type": "code",
   "execution_count": null,
   "metadata": {
    "colab": {
     "base_uri": "https://localhost:8080/"
    },
    "id": "86mpWkci1g9J",
    "outputId": "f616b439-a124-470a-8f64-3ecf345edbc1"
   },
   "outputs": [],
   "source": [
    "langchain_graph_documents [0].relationships"
   ]
  },
  {
   "cell_type": "code",
   "execution_count": null,
   "metadata": {
    "colab": {
     "base_uri": "https://localhost:8080/"
    },
    "id": "BHC4LfE019a7",
    "outputId": "33c4d455-8df6-46d9-8227-e760784ea38c"
   },
   "outputs": [],
   "source": [
    "print(type(langchain_graph_documents ))  # Check the type of the graph object"
   ]
  },
  {
   "cell_type": "code",
   "execution_count": null,
   "metadata": {
    "id": "7gQgRYIJ00CT"
   },
   "outputs": [],
   "source": [
    "py2neo_graph = Graph(uri=\"bolt://localhost:7687\", auth=(\"neo4j\", \"12345678\"))"
   ]
  },
  {
   "cell_type": "code",
   "execution_count": null,
   "metadata": {
    "id": "yvU_dMtN2fwZ"
   },
   "outputs": [],
   "source": [
    "for node in langchain_graph_documents[0].nodes:\n",
    "    neo4j_node = Node(\"Concept\", name=node.id, content='')\n",
    "    py2neo_graph.create(neo4j_node)"
   ]
  },
  {
   "cell_type": "code",
   "execution_count": null,
   "metadata": {
    "colab": {
     "base_uri": "https://localhost:8080/"
    },
    "id": "_-aj7yiM5F0D",
    "outputId": "1520e4f0-87d7-46b7-da16-2dd33138ca17"
   },
   "outputs": [],
   "source": [
    "langchain_graph_documents[0].relationships"
   ]
  },
  {
   "cell_type": "code",
   "execution_count": null,
   "metadata": {
    "id": "NuLaS_HB42YP"
   },
   "outputs": [],
   "source": [
    "from pyvis.network import Network\n",
    "from py2neo import Graph\n",
    "\n",
    "# Your Neo4j connection setup\n",
    "py2neo_graph = Graph(uri=\"bolt://localhost:7687\", auth=(\"neo4j\", \"12345678\"))\n",
    "\n",
    "net = Network(height=\"600px\", width=\"100%\", directed=True)\n",
    "\n",
    "# Add all nodes from the graph documents (you might want to filter if there are many)\n",
    "for node in langchain_graph_documents[0].nodes:\n",
    "    net.add_node(node.id, label=node.id, title=node.type)\n",
    "\n",
    "# Add relationships\n",
    "for relationship in langchain_graph_documents[0].relationships:\n",
    "    net.add_edge(relationship.source.id, relationship.target.id,\n",
    "                 label=relationship.type, title=relationship.type)\n",
    "\n",
    "net.save_graph(\"mygraph1.html\")  # Save the graph\n",
    "# net.show(\"mygraph.html\") # dont run this in colab as throws error of rendering , hence i had to save it as a graph"
   ]
  },
  {
   "cell_type": "code",
   "execution_count": null,
   "metadata": {
    "colab": {
     "base_uri": "https://localhost:8080/",
     "height": 621
    },
    "id": "_geWwluY8H7R",
    "outputId": "45a50bd6-c692-400a-d977-527619901fa5"
   },
   "outputs": [],
   "source": [
    "from IPython.display import IFrame\n",
    "\n",
    "IFrame(src='/content/mygraph.html', width=800, height=600) # Adjust 'width' and 'height' as needed\n",
    "# this code has some issue to load the file in colab"
   ]
  },
  {
   "cell_type": "code",
   "execution_count": null,
   "metadata": {},
   "outputs": [],
   "source": [
    "# !pip install pdfminer.six\n",
    "\n",
    "import PyPDF2\n",
    "from langchain_community.document_loaders import TextLoader\n",
    "from langchain.text_splitter import CharacterTextSplitter\n",
    "from langchain_openai import OpenAIEmbeddings\n",
    "from langchain_community.vectorstores import Neo4jVector\n",
    "\n",
    "pdf_file = \"Financial_report.pdf\"\n",
    "\n",
    "# Extract text from PDF using pdfminer.six\n",
    "from pdfminer.high_level import extract_text\n",
    "text = extract_text(pdf_file)\n",
    "\n",
    "# Write text to a file\n",
    "text_path = \"extracted_text.txt\"\n",
    "with open(text_path, 'w', encoding='utf-8') as text_file:\n",
    "    text_file.write(text)\n",
    "\n",
    "# Load text from the file\n",
    "loader = TextLoader(text_path)\n",
    "documents = loader.load()\n",
    "\n",
    "# Split documents into chunks\n",
    "text_splitter = CharacterTextSplitter(chunk_size=1000, chunk_overlap=0)\n",
    "docs = text_splitter.split_documents(documents)\n",
    "\n",
    "# Initialize OpenAI embeddings\n",
    "embeddings = OpenAIEmbeddings(OPENAI_API_KEY=\"sk-proj-23bracs3hqg4VfQS8nZiT3BlbkFJ3NBRNwm2MFcrGolCRVYy\")\n",
    "\n",
    "# Connect to Neo4j and load documents\n",
    "db = Neo4jVector.from_documents(\n",
    "    docs, OpenAIEmbeddings(), url=\"bolt://localhost:7687\", username=\"neo4j\", password=\"12345678\"\n",
    ")\n",
    " \n",
    "query = \"What are AI/ML applications are designed to improve product quality?\"\n",
    "docs_with_score = db.similarity_search_with_score(query, k=2)\n",
    "print(docs_with_score)\n"
   ]
  },
  {
   "cell_type": "code",
   "execution_count": null,
   "metadata": {
    "colab": {
     "base_uri": "https://localhost:8080/",
     "height": 17
    },
    "id": "Astgplsk9fx9",
    "outputId": "1c99f433-a0b2-4059-8cea-cec02d4a24da"
   },
   "outputs": [],
   "source": [
    "# from google.colab import files\n",
    "\n",
    "# files.download('mygraph.html')\n",
    "# this works fine"
   ]
  },
  {
   "cell_type": "markdown",
   "metadata": {
    "id": "EynjsUmF9oXH"
   },
   "source": [
    "# New Data - CSV Coding"
   ]
  }
 ],
 "metadata": {
  "accelerator": "TPU",
  "colab": {
   "gpuType": "V28",
   "machine_shape": "hm",
   "provenance": []
  },
  "kernelspec": {
   "display_name": "Python 3",
   "language": "python",
   "name": "python3"
  },
  "language_info": {
   "codemirror_mode": {
    "name": "ipython",
    "version": 3
   },
   "file_extension": ".py",
   "mimetype": "text/x-python",
   "name": "python",
   "nbconvert_exporter": "python",
   "pygments_lexer": "ipython3",
   "version": "3.11.0 (main, Jul 19 2023, 15:40:35) [Clang 12.0.5 (clang-1205.0.22.11)]"
  },
  "vscode": {
   "interpreter": {
    "hash": "777e8f00aedb948e64473679b940d706c506a2a0dc95c3ffea1fff4bb81714b1"
   }
  }
 },
 "nbformat": 4,
 "nbformat_minor": 4
}
