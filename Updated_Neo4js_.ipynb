{
  "cells": [
    {
      "cell_type": "code",
      "execution_count": 1,
      "metadata": {
        "colab": {
          "base_uri": "https://localhost:8080/"
        },
        "id": "tDer3qsqn6Pf",
        "outputId": "70c31057-8f24-4df1-e7c6-e35e92571dc6"
      },
      "outputs": [
        {
          "name": "stdout",
          "output_type": "stream",
          "text": [
            "Collecting langchain\n",
            "  Downloading langchain-0.2.7-py3-none-any.whl.metadata (6.9 kB)\n",
            "Collecting langchain-community\n",
            "  Downloading langchain_community-0.2.7-py3-none-any.whl.metadata (2.5 kB)\n",
            "Collecting langchain-openai\n",
            "  Downloading langchain_openai-0.1.14-py3-none-any.whl.metadata (2.5 kB)\n",
            "Collecting langchain-experimental\n",
            "  Downloading langchain_experimental-0.0.62-py3-none-any.whl.metadata (1.5 kB)\n",
            "Collecting wikipedia\n",
            "  Downloading wikipedia-1.4.0.tar.gz (27 kB)\n",
            "  Installing build dependencies ... \u001b[?25ldone\n",
            "\u001b[?25h  Getting requirements to build wheel ... \u001b[?25ldone\n",
            "\u001b[?25h  Preparing metadata (pyproject.toml) ... \u001b[?25ldone\n",
            "\u001b[?25hCollecting tiktoken\n",
            "  Downloading tiktoken-0.7.0-cp311-cp311-macosx_10_9_x86_64.whl.metadata (6.6 kB)\n",
            "Collecting py2neo\n",
            "  Downloading py2neo-2021.2.4-py2.py3-none-any.whl.metadata (9.9 kB)\n",
            "Collecting streamlit\n",
            "  Downloading streamlit-1.36.0-py2.py3-none-any.whl.metadata (8.5 kB)\n",
            "Collecting neo4j\n",
            "  Downloading neo4j-5.22.0-py3-none-any.whl.metadata (5.7 kB)\n",
            "Collecting langchain-core\n",
            "  Downloading langchain_core-0.2.12-py3-none-any.whl.metadata (6.0 kB)\n",
            "Collecting pyvis\n",
            "  Downloading pyvis-0.3.2-py3-none-any.whl.metadata (1.7 kB)\n",
            "Collecting cairocffi\n",
            "  Downloading cairocffi-1.7.1-py3-none-any.whl.metadata (3.3 kB)\n",
            "Collecting igraph\n",
            "  Downloading igraph-0.11.6-cp39-abi3-macosx_10_9_x86_64.whl.metadata (3.9 kB)\n",
            "Requirement already satisfied: PyYAML>=5.3 in /Users/_uh17/.pyenv/versions/3.11.0/lib/python3.11/site-packages (from langchain) (6.0.1)\n",
            "Collecting SQLAlchemy<3,>=1.4 (from langchain)\n",
            "  Downloading SQLAlchemy-2.0.31-cp311-cp311-macosx_10_9_x86_64.whl.metadata (9.6 kB)\n",
            "Collecting aiohttp<4.0.0,>=3.8.3 (from langchain)\n",
            "  Downloading aiohttp-3.9.5-cp311-cp311-macosx_10_9_x86_64.whl.metadata (7.5 kB)\n",
            "Collecting langchain-text-splitters<0.3.0,>=0.2.0 (from langchain)\n",
            "  Downloading langchain_text_splitters-0.2.2-py3-none-any.whl.metadata (2.1 kB)\n",
            "Collecting langsmith<0.2.0,>=0.1.17 (from langchain)\n",
            "  Downloading langsmith-0.1.85-py3-none-any.whl.metadata (13 kB)\n",
            "Requirement already satisfied: numpy<2,>=1 in /Users/_uh17/.pyenv/versions/3.11.0/lib/python3.11/site-packages (from langchain) (1.26.4)\n",
            "Requirement already satisfied: pydantic<3,>=1 in /Users/_uh17/.pyenv/versions/3.11.0/lib/python3.11/site-packages (from langchain) (2.6.4)\n",
            "Requirement already satisfied: requests<3,>=2 in /Users/_uh17/.pyenv/versions/3.11.0/lib/python3.11/site-packages (from langchain) (2.31.0)\n",
            "Collecting tenacity!=8.4.0,<9.0.0,>=8.1.0 (from langchain)\n",
            "  Downloading tenacity-8.5.0-py3-none-any.whl.metadata (1.2 kB)\n",
            "Collecting dataclasses-json<0.7,>=0.5.7 (from langchain-community)\n",
            "  Downloading dataclasses_json-0.6.7-py3-none-any.whl.metadata (25 kB)\n",
            "Collecting openai<2.0.0,>=1.32.0 (from langchain-openai)\n",
            "  Downloading openai-1.35.13-py3-none-any.whl.metadata (21 kB)\n",
            "Collecting beautifulsoup4 (from wikipedia)\n",
            "  Downloading beautifulsoup4-4.12.3-py3-none-any.whl.metadata (3.8 kB)\n",
            "Requirement already satisfied: regex>=2022.1.18 in /Users/_uh17/.pyenv/versions/3.11.0/lib/python3.11/site-packages (from tiktoken) (2023.12.25)\n",
            "Requirement already satisfied: certifi in /Users/_uh17/.pyenv/versions/3.11.0/lib/python3.11/site-packages (from py2neo) (2024.2.2)\n",
            "Collecting interchange~=2021.0.4 (from py2neo)\n",
            "  Downloading interchange-2021.0.4-py2.py3-none-any.whl.metadata (1.9 kB)\n",
            "Collecting monotonic (from py2neo)\n",
            "  Downloading monotonic-1.6-py2.py3-none-any.whl.metadata (1.5 kB)\n",
            "Requirement already satisfied: packaging in /Users/_uh17/.pyenv/versions/3.11.0/lib/python3.11/site-packages (from py2neo) (24.0)\n",
            "Collecting pansi>=2020.7.3 (from py2neo)\n",
            "  Downloading pansi-2020.7.3-py2.py3-none-any.whl.metadata (6.0 kB)\n",
            "Requirement already satisfied: pygments>=2.0.0 in /Users/_uh17/.pyenv/versions/3.11.0/lib/python3.11/site-packages (from py2neo) (2.17.2)\n",
            "Requirement already satisfied: six>=1.15.0 in /Users/_uh17/.pyenv/versions/3.11.0/lib/python3.11/site-packages (from py2neo) (1.16.0)\n",
            "Requirement already satisfied: urllib3 in /Users/_uh17/.pyenv/versions/3.11.0/lib/python3.11/site-packages (from py2neo) (2.2.1)\n",
            "Collecting altair<6,>=4.0 (from streamlit)\n",
            "  Downloading altair-5.3.0-py3-none-any.whl.metadata (9.2 kB)\n",
            "Collecting blinker<2,>=1.0.0 (from streamlit)\n",
            "  Downloading blinker-1.8.2-py3-none-any.whl.metadata (1.6 kB)\n",
            "Collecting cachetools<6,>=4.0 (from streamlit)\n",
            "  Downloading cachetools-5.3.3-py3-none-any.whl.metadata (5.3 kB)\n",
            "Collecting click<9,>=7.0 (from streamlit)\n",
            "  Downloading click-8.1.7-py3-none-any.whl.metadata (3.0 kB)\n",
            "Collecting pandas<3,>=1.3.0 (from streamlit)\n",
            "  Using cached pandas-2.2.2-cp311-cp311-macosx_10_9_x86_64.whl.metadata (19 kB)\n",
            "Collecting pillow<11,>=7.1.0 (from streamlit)\n",
            "  Downloading pillow-10.4.0-cp311-cp311-macosx_10_10_x86_64.whl.metadata (9.2 kB)\n",
            "Collecting protobuf<6,>=3.20 (from streamlit)\n",
            "  Downloading protobuf-5.27.2-cp38-abi3-macosx_10_9_universal2.whl.metadata (592 bytes)\n",
            "Collecting pyarrow>=7.0 (from streamlit)\n",
            "  Downloading pyarrow-16.1.0-cp311-cp311-macosx_10_15_x86_64.whl.metadata (3.0 kB)\n",
            "Collecting rich<14,>=10.14.0 (from streamlit)\n",
            "  Downloading rich-13.7.1-py3-none-any.whl.metadata (18 kB)\n",
            "Collecting toml<2,>=0.10.1 (from streamlit)\n",
            "  Downloading toml-0.10.2-py2.py3-none-any.whl.metadata (7.1 kB)\n",
            "Requirement already satisfied: typing-extensions<5,>=4.3.0 in /Users/_uh17/.pyenv/versions/3.11.0/lib/python3.11/site-packages (from streamlit) (4.10.0)\n",
            "Collecting gitpython!=3.1.19,<4,>=3.0.7 (from streamlit)\n",
            "  Downloading GitPython-3.1.43-py3-none-any.whl.metadata (13 kB)\n",
            "Collecting pydeck<1,>=0.8.0b4 (from streamlit)\n",
            "  Downloading pydeck-0.9.1-py2.py3-none-any.whl.metadata (4.1 kB)\n",
            "Requirement already satisfied: tornado<7,>=6.0.3 in /Users/_uh17/.pyenv/versions/3.11.0/lib/python3.11/site-packages (from streamlit) (6.4)\n",
            "Collecting pytz (from neo4j)\n",
            "  Downloading pytz-2024.1-py2.py3-none-any.whl.metadata (22 kB)\n",
            "Collecting jsonpatch<2.0,>=1.33 (from langchain-core)\n",
            "  Downloading jsonpatch-1.33-py2.py3-none-any.whl.metadata (3.0 kB)\n",
            "Requirement already satisfied: ipython>=5.3.0 in /Users/_uh17/.pyenv/versions/3.11.0/lib/python3.11/site-packages (from pyvis) (8.22.2)\n",
            "Requirement already satisfied: jinja2>=2.9.6 in /Users/_uh17/.pyenv/versions/3.11.0/lib/python3.11/site-packages (from pyvis) (3.1.3)\n",
            "Collecting jsonpickle>=1.4.1 (from pyvis)\n",
            "  Downloading jsonpickle-3.2.2-py3-none-any.whl.metadata (7.2 kB)\n",
            "Requirement already satisfied: networkx>=1.11 in /Users/_uh17/.pyenv/versions/3.11.0/lib/python3.11/site-packages (from pyvis) (3.2.1)\n",
            "Collecting cffi>=1.1.0 (from cairocffi)\n",
            "  Downloading cffi-1.16.0-cp311-cp311-macosx_10_9_x86_64.whl.metadata (1.5 kB)\n",
            "Collecting texttable>=1.6.2 (from igraph)\n",
            "  Downloading texttable-1.7.0-py2.py3-none-any.whl.metadata (9.8 kB)\n",
            "Collecting aiosignal>=1.1.2 (from aiohttp<4.0.0,>=3.8.3->langchain)\n",
            "  Using cached aiosignal-1.3.1-py3-none-any.whl.metadata (4.0 kB)\n",
            "Collecting attrs>=17.3.0 (from aiohttp<4.0.0,>=3.8.3->langchain)\n",
            "  Downloading attrs-23.2.0-py3-none-any.whl.metadata (9.5 kB)\n",
            "Collecting frozenlist>=1.1.1 (from aiohttp<4.0.0,>=3.8.3->langchain)\n",
            "  Downloading frozenlist-1.4.1-cp311-cp311-macosx_10_9_x86_64.whl.metadata (12 kB)\n",
            "Collecting multidict<7.0,>=4.5 (from aiohttp<4.0.0,>=3.8.3->langchain)\n",
            "  Downloading multidict-6.0.5-cp311-cp311-macosx_10_9_x86_64.whl.metadata (4.2 kB)\n",
            "Collecting yarl<2.0,>=1.0 (from aiohttp<4.0.0,>=3.8.3->langchain)\n",
            "  Downloading yarl-1.9.4-cp311-cp311-macosx_10_9_x86_64.whl.metadata (31 kB)\n",
            "Collecting jsonschema>=3.0 (from altair<6,>=4.0->streamlit)\n",
            "  Downloading jsonschema-4.23.0-py3-none-any.whl.metadata (7.9 kB)\n",
            "Collecting toolz (from altair<6,>=4.0->streamlit)\n",
            "  Downloading toolz-0.12.1-py3-none-any.whl.metadata (5.1 kB)\n",
            "Collecting pycparser (from cffi>=1.1.0->cairocffi)\n",
            "  Downloading pycparser-2.22-py3-none-any.whl.metadata (943 bytes)\n",
            "Collecting marshmallow<4.0.0,>=3.18.0 (from dataclasses-json<0.7,>=0.5.7->langchain-community)\n",
            "  Downloading marshmallow-3.21.3-py3-none-any.whl.metadata (7.1 kB)\n",
            "Collecting typing-inspect<1,>=0.4.0 (from dataclasses-json<0.7,>=0.5.7->langchain-community)\n",
            "  Downloading typing_inspect-0.9.0-py3-none-any.whl.metadata (1.5 kB)\n",
            "Collecting gitdb<5,>=4.0.1 (from gitpython!=3.1.19,<4,>=3.0.7->streamlit)\n",
            "  Downloading gitdb-4.0.11-py3-none-any.whl.metadata (1.2 kB)\n",
            "Requirement already satisfied: decorator in /Users/_uh17/.pyenv/versions/3.11.0/lib/python3.11/site-packages (from ipython>=5.3.0->pyvis) (5.1.1)\n",
            "Requirement already satisfied: jedi>=0.16 in /Users/_uh17/.pyenv/versions/3.11.0/lib/python3.11/site-packages (from ipython>=5.3.0->pyvis) (0.19.1)\n",
            "Requirement already satisfied: matplotlib-inline in /Users/_uh17/.pyenv/versions/3.11.0/lib/python3.11/site-packages (from ipython>=5.3.0->pyvis) (0.1.6)\n",
            "Requirement already satisfied: prompt-toolkit<3.1.0,>=3.0.41 in /Users/_uh17/.pyenv/versions/3.11.0/lib/python3.11/site-packages (from ipython>=5.3.0->pyvis) (3.0.43)\n",
            "Requirement already satisfied: stack-data in /Users/_uh17/.pyenv/versions/3.11.0/lib/python3.11/site-packages (from ipython>=5.3.0->pyvis) (0.6.3)\n",
            "Requirement already satisfied: traitlets>=5.13.0 in /Users/_uh17/.pyenv/versions/3.11.0/lib/python3.11/site-packages (from ipython>=5.3.0->pyvis) (5.14.2)\n",
            "Requirement already satisfied: pexpect>4.3 in /Users/_uh17/.pyenv/versions/3.11.0/lib/python3.11/site-packages (from ipython>=5.3.0->pyvis) (4.9.0)\n",
            "Requirement already satisfied: MarkupSafe>=2.0 in /Users/_uh17/.pyenv/versions/3.11.0/lib/python3.11/site-packages (from jinja2>=2.9.6->pyvis) (2.1.5)\n",
            "Collecting jsonpointer>=1.9 (from jsonpatch<2.0,>=1.33->langchain-core)\n",
            "  Downloading jsonpointer-3.0.0-py2.py3-none-any.whl.metadata (2.3 kB)\n",
            "Collecting orjson<4.0.0,>=3.9.14 (from langsmith<0.2.0,>=0.1.17->langchain)\n",
            "  Downloading orjson-3.10.6-cp311-cp311-macosx_10_15_x86_64.macosx_11_0_arm64.macosx_10_15_universal2.whl.metadata (50 kB)\n",
            "\u001b[2K     \u001b[90m━━━━━━━━━━━━━━━━━━━━━━━━━━━━━━━━━━━━━━━━\u001b[0m \u001b[32m50.4/50.4 kB\u001b[0m \u001b[31m1.4 MB/s\u001b[0m eta \u001b[36m0:00:00\u001b[0m\n",
            "\u001b[?25hRequirement already satisfied: anyio<5,>=3.5.0 in /Users/_uh17/.pyenv/versions/3.11.0/lib/python3.11/site-packages (from openai<2.0.0,>=1.32.0->langchain-openai) (4.3.0)\n",
            "Requirement already satisfied: distro<2,>=1.7.0 in /Users/_uh17/.pyenv/versions/3.11.0/lib/python3.11/site-packages (from openai<2.0.0,>=1.32.0->langchain-openai) (1.9.0)\n",
            "Requirement already satisfied: httpx<1,>=0.23.0 in /Users/_uh17/.pyenv/versions/3.11.0/lib/python3.11/site-packages (from openai<2.0.0,>=1.32.0->langchain-openai) (0.27.0)\n",
            "Requirement already satisfied: sniffio in /Users/_uh17/.pyenv/versions/3.11.0/lib/python3.11/site-packages (from openai<2.0.0,>=1.32.0->langchain-openai) (1.3.1)\n",
            "Requirement already satisfied: tqdm>4 in /Users/_uh17/.pyenv/versions/3.11.0/lib/python3.11/site-packages (from openai<2.0.0,>=1.32.0->langchain-openai) (4.66.2)\n",
            "Requirement already satisfied: python-dateutil>=2.8.2 in /Users/_uh17/.pyenv/versions/3.11.0/lib/python3.11/site-packages (from pandas<3,>=1.3.0->streamlit) (2.9.0.post0)\n",
            "Collecting tzdata>=2022.7 (from pandas<3,>=1.3.0->streamlit)\n",
            "  Downloading tzdata-2024.1-py2.py3-none-any.whl.metadata (1.4 kB)\n",
            "Requirement already satisfied: annotated-types>=0.4.0 in /Users/_uh17/.pyenv/versions/3.11.0/lib/python3.11/site-packages (from pydantic<3,>=1->langchain) (0.6.0)\n",
            "Requirement already satisfied: pydantic-core==2.16.3 in /Users/_uh17/.pyenv/versions/3.11.0/lib/python3.11/site-packages (from pydantic<3,>=1->langchain) (2.16.3)\n",
            "Requirement already satisfied: charset-normalizer<4,>=2 in /Users/_uh17/.pyenv/versions/3.11.0/lib/python3.11/site-packages (from requests<3,>=2->langchain) (3.3.2)\n",
            "Requirement already satisfied: idna<4,>=2.5 in /Users/_uh17/.pyenv/versions/3.11.0/lib/python3.11/site-packages (from requests<3,>=2->langchain) (3.6)\n",
            "Collecting markdown-it-py>=2.2.0 (from rich<14,>=10.14.0->streamlit)\n",
            "  Downloading markdown_it_py-3.0.0-py3-none-any.whl.metadata (6.9 kB)\n",
            "Collecting greenlet!=0.4.17 (from SQLAlchemy<3,>=1.4->langchain)\n",
            "  Downloading greenlet-3.0.3-cp311-cp311-macosx_11_0_universal2.whl.metadata (3.8 kB)\n",
            "Collecting soupsieve>1.2 (from beautifulsoup4->wikipedia)\n",
            "  Downloading soupsieve-2.5-py3-none-any.whl.metadata (4.7 kB)\n",
            "Collecting smmap<6,>=3.0.1 (from gitdb<5,>=4.0.1->gitpython!=3.1.19,<4,>=3.0.7->streamlit)\n",
            "  Downloading smmap-5.0.1-py3-none-any.whl.metadata (4.3 kB)\n",
            "Requirement already satisfied: httpcore==1.* in /Users/_uh17/.pyenv/versions/3.11.0/lib/python3.11/site-packages (from httpx<1,>=0.23.0->openai<2.0.0,>=1.32.0->langchain-openai) (1.0.5)\n",
            "Requirement already satisfied: h11<0.15,>=0.13 in /Users/_uh17/.pyenv/versions/3.11.0/lib/python3.11/site-packages (from httpcore==1.*->httpx<1,>=0.23.0->openai<2.0.0,>=1.32.0->langchain-openai) (0.14.0)\n",
            "Requirement already satisfied: parso<0.9.0,>=0.8.3 in /Users/_uh17/.pyenv/versions/3.11.0/lib/python3.11/site-packages (from jedi>=0.16->ipython>=5.3.0->pyvis) (0.8.3)\n",
            "Collecting jsonschema-specifications>=2023.03.6 (from jsonschema>=3.0->altair<6,>=4.0->streamlit)\n",
            "  Downloading jsonschema_specifications-2023.12.1-py3-none-any.whl.metadata (3.0 kB)\n",
            "Collecting referencing>=0.28.4 (from jsonschema>=3.0->altair<6,>=4.0->streamlit)\n",
            "  Downloading referencing-0.35.1-py3-none-any.whl.metadata (2.8 kB)\n",
            "Collecting rpds-py>=0.7.1 (from jsonschema>=3.0->altair<6,>=4.0->streamlit)\n",
            "  Downloading rpds_py-0.19.0-cp311-cp311-macosx_10_12_x86_64.whl.metadata (4.1 kB)\n",
            "Collecting mdurl~=0.1 (from markdown-it-py>=2.2.0->rich<14,>=10.14.0->streamlit)\n",
            "  Using cached mdurl-0.1.2-py3-none-any.whl.metadata (1.6 kB)\n",
            "Requirement already satisfied: ptyprocess>=0.5 in /Users/_uh17/.pyenv/versions/3.11.0/lib/python3.11/site-packages (from pexpect>4.3->ipython>=5.3.0->pyvis) (0.7.0)\n",
            "Requirement already satisfied: wcwidth in /Users/_uh17/.pyenv/versions/3.11.0/lib/python3.11/site-packages (from prompt-toolkit<3.1.0,>=3.0.41->ipython>=5.3.0->pyvis) (0.2.13)\n",
            "Collecting mypy-extensions>=0.3.0 (from typing-inspect<1,>=0.4.0->dataclasses-json<0.7,>=0.5.7->langchain-community)\n",
            "  Downloading mypy_extensions-1.0.0-py3-none-any.whl.metadata (1.1 kB)\n",
            "Requirement already satisfied: executing>=1.2.0 in /Users/_uh17/.pyenv/versions/3.11.0/lib/python3.11/site-packages (from stack-data->ipython>=5.3.0->pyvis) (2.0.1)\n",
            "Requirement already satisfied: asttokens>=2.1.0 in /Users/_uh17/.pyenv/versions/3.11.0/lib/python3.11/site-packages (from stack-data->ipython>=5.3.0->pyvis) (2.4.1)\n",
            "Requirement already satisfied: pure-eval in /Users/_uh17/.pyenv/versions/3.11.0/lib/python3.11/site-packages (from stack-data->ipython>=5.3.0->pyvis) (0.2.2)\n",
            "Downloading langchain-0.2.7-py3-none-any.whl (983 kB)\n",
            "\u001b[2K   \u001b[90m━━━━━━━━━━━━━━━━━━━━━━━━━━━━━━━━━━━━━━━━\u001b[0m \u001b[32m983.6/983.6 kB\u001b[0m \u001b[31m15.9 MB/s\u001b[0m eta \u001b[36m0:00:00\u001b[0m00:01\u001b[0m\n",
            "\u001b[?25hDownloading langchain_community-0.2.7-py3-none-any.whl (2.2 MB)\n",
            "\u001b[2K   \u001b[90m━━━━━━━━━━━━━━━━━━━━━━━━━━━━━━━━━━━━━━━━\u001b[0m \u001b[32m2.2/2.2 MB\u001b[0m \u001b[31m24.8 MB/s\u001b[0m eta \u001b[36m0:00:00\u001b[0m00:01\u001b[0m00:01\u001b[0m\n",
            "\u001b[?25hDownloading langchain_openai-0.1.14-py3-none-any.whl (45 kB)\n",
            "\u001b[2K   \u001b[90m━━━━━━━━━━━━━━━━━━━━━━━━━━━━━━━━━━━━━━━━\u001b[0m \u001b[32m45.9/45.9 kB\u001b[0m \u001b[31m1.5 MB/s\u001b[0m eta \u001b[36m0:00:00\u001b[0m\n",
            "\u001b[?25hDownloading langchain_experimental-0.0.62-py3-none-any.whl (202 kB)\n",
            "\u001b[2K   \u001b[90m━━━━━━━━━━━━━━━━━━━━━━━━━━━━━━━━━━━━━━━━\u001b[0m \u001b[32m202.7/202.7 kB\u001b[0m \u001b[31m7.7 MB/s\u001b[0m eta \u001b[36m0:00:00\u001b[0m\n",
            "\u001b[?25hDownloading tiktoken-0.7.0-cp311-cp311-macosx_10_9_x86_64.whl (961 kB)\n",
            "\u001b[2K   \u001b[90m━━━━━━━━━━━━━━━━━━━━━━━━━━━━━━━━━━━━━━━━\u001b[0m \u001b[32m961.5/961.5 kB\u001b[0m \u001b[31m19.9 MB/s\u001b[0m eta \u001b[36m0:00:00\u001b[0m00:01\u001b[0m\n",
            "\u001b[?25hDownloading py2neo-2021.2.4-py2.py3-none-any.whl (177 kB)\n",
            "\u001b[2K   \u001b[90m━━━━━━━━━━━━━━━━━━━━━━━━━━━━━━━━━━━━━━━━\u001b[0m \u001b[32m177.2/177.2 kB\u001b[0m \u001b[31m6.4 MB/s\u001b[0m eta \u001b[36m0:00:00\u001b[0m\n",
            "\u001b[?25hDownloading streamlit-1.36.0-py2.py3-none-any.whl (8.6 MB)\n",
            "\u001b[2K   \u001b[90m━━━━━━━━━━━━━━━━━━━━━━━━━━━━━━━━━━━━━━━━\u001b[0m \u001b[32m8.6/8.6 MB\u001b[0m \u001b[31m35.2 MB/s\u001b[0m eta \u001b[36m0:00:00\u001b[0m00:01\u001b[0m00:01\u001b[0m\n",
            "\u001b[?25hDownloading neo4j-5.22.0-py3-none-any.whl (293 kB)\n",
            "\u001b[2K   \u001b[90m━━━━━━━━━━━━━━━━━━━━━━━━━━━━━━━━━━━━━━━━\u001b[0m \u001b[32m293.5/293.5 kB\u001b[0m \u001b[31m10.1 MB/s\u001b[0m eta \u001b[36m0:00:00\u001b[0m\n",
            "\u001b[?25hDownloading langchain_core-0.2.12-py3-none-any.whl (355 kB)\n",
            "\u001b[2K   \u001b[90m━━━━━━━━━━━━━━━━━━━━━━━━━━━━━━━━━━━━━━━━\u001b[0m \u001b[32m355.8/355.8 kB\u001b[0m \u001b[31m11.5 MB/s\u001b[0m eta \u001b[36m0:00:00\u001b[0m\n",
            "\u001b[?25hDownloading pyvis-0.3.2-py3-none-any.whl (756 kB)\n",
            "\u001b[2K   \u001b[90m━━━━━━━━━━━━━━━━━━━━━━━━━━━━━━━━━━━━━━━━\u001b[0m \u001b[32m756.0/756.0 kB\u001b[0m \u001b[31m16.1 MB/s\u001b[0m eta \u001b[36m0:00:00\u001b[0m00:01\u001b[0m\n",
            "\u001b[?25hDownloading cairocffi-1.7.1-py3-none-any.whl (75 kB)\n",
            "\u001b[2K   \u001b[90m━━━━━━━━━━━━━━━━━━━━━━━━━━━━━━━━━━━━━━━━\u001b[0m \u001b[32m75.6/75.6 kB\u001b[0m \u001b[31m2.6 MB/s\u001b[0m eta \u001b[36m0:00:00\u001b[0m\n",
            "\u001b[?25hDownloading igraph-0.11.6-cp39-abi3-macosx_10_9_x86_64.whl (1.9 MB)\n",
            "\u001b[2K   \u001b[90m━━━━━━━━━━━━━━━━━━━━━━━━━━━━━━━━━━━━━━━━\u001b[0m \u001b[32m1.9/1.9 MB\u001b[0m \u001b[31m26.7 MB/s\u001b[0m eta \u001b[36m0:00:00\u001b[0ma \u001b[36m0:00:01\u001b[0m\n",
            "\u001b[?25hDownloading aiohttp-3.9.5-cp311-cp311-macosx_10_9_x86_64.whl (402 kB)\n",
            "\u001b[2K   \u001b[90m━━━━━━━━━━━━━━━━━━━━━━━━━━━━━━━━━━━━━━━━\u001b[0m \u001b[32m402.4/402.4 kB\u001b[0m \u001b[31m13.1 MB/s\u001b[0m eta \u001b[36m0:00:00\u001b[0m\n",
            "\u001b[?25hDownloading altair-5.3.0-py3-none-any.whl (857 kB)\n",
            "\u001b[2K   \u001b[90m━━━━━━━━━━━━━━━━━━━━━━━━━━━━━━━━━━━━━━━━\u001b[0m \u001b[32m857.8/857.8 kB\u001b[0m \u001b[31m19.5 MB/s\u001b[0m eta \u001b[36m0:00:00\u001b[0m00:01\u001b[0m\n",
            "\u001b[?25hDownloading blinker-1.8.2-py3-none-any.whl (9.5 kB)\n",
            "Downloading cachetools-5.3.3-py3-none-any.whl (9.3 kB)\n",
            "Downloading cffi-1.16.0-cp311-cp311-macosx_10_9_x86_64.whl (182 kB)\n",
            "\u001b[2K   \u001b[90m━━━━━━━━━━━━━━━━━━━━━━━━━━━━━━━━━━━━━━━━\u001b[0m \u001b[32m182.4/182.4 kB\u001b[0m \u001b[31m5.8 MB/s\u001b[0m eta \u001b[36m0:00:00\u001b[0m\n",
            "\u001b[?25hDownloading click-8.1.7-py3-none-any.whl (97 kB)\n",
            "\u001b[2K   \u001b[90m━━━━━━━━━━━━━━━━━━━━━━━━━━━━━━━━━━━━━━━━\u001b[0m \u001b[32m97.9/97.9 kB\u001b[0m \u001b[31m1.6 MB/s\u001b[0m eta \u001b[36m0:00:00\u001b[0mta \u001b[36m0:00:01\u001b[0m\n",
            "\u001b[?25hDownloading dataclasses_json-0.6.7-py3-none-any.whl (28 kB)\n",
            "Downloading GitPython-3.1.43-py3-none-any.whl (207 kB)\n",
            "\u001b[2K   \u001b[90m━━━━━━━━━━━━━━━━━━━━━━━━━━━━━━━━━━━━━━━━\u001b[0m \u001b[32m207.3/207.3 kB\u001b[0m \u001b[31m7.1 MB/s\u001b[0m eta \u001b[36m0:00:00\u001b[0m\n",
            "\u001b[?25hDownloading interchange-2021.0.4-py2.py3-none-any.whl (28 kB)\n",
            "Downloading jsonpatch-1.33-py2.py3-none-any.whl (12 kB)\n",
            "Downloading jsonpickle-3.2.2-py3-none-any.whl (41 kB)\n",
            "\u001b[2K   \u001b[90m━━━━━━━━━━━━━━━━━━━━━━━━━━━━━━━━━━━━━━━━\u001b[0m \u001b[32m41.8/41.8 kB\u001b[0m \u001b[31m1.4 MB/s\u001b[0m eta \u001b[36m0:00:00\u001b[0m\n",
            "\u001b[?25hDownloading langchain_text_splitters-0.2.2-py3-none-any.whl (25 kB)\n",
            "Downloading langsmith-0.1.85-py3-none-any.whl (127 kB)\n",
            "\u001b[2K   \u001b[90m━━━━━━━━━━━━━━━━━━━━━━━━━━━━━━━━━━━━━━━━\u001b[0m \u001b[32m127.9/127.9 kB\u001b[0m \u001b[31m4.6 MB/s\u001b[0m eta \u001b[36m0:00:00\u001b[0m\n",
            "\u001b[?25hDownloading openai-1.35.13-py3-none-any.whl (328 kB)\n",
            "\u001b[2K   \u001b[90m━━━━━━━━━━━━━━━━━━━━━━━━━━━━━━━━━━━━━━━━\u001b[0m \u001b[32m328.5/328.5 kB\u001b[0m \u001b[31m11.3 MB/s\u001b[0m eta \u001b[36m0:00:00\u001b[0m\n",
            "\u001b[?25hUsing cached pandas-2.2.2-cp311-cp311-macosx_10_9_x86_64.whl (12.6 MB)\n",
            "Downloading pansi-2020.7.3-py2.py3-none-any.whl (10 kB)\n",
            "Downloading pillow-10.4.0-cp311-cp311-macosx_10_10_x86_64.whl (3.5 MB)\n",
            "\u001b[2K   \u001b[90m━━━━━━━━━━━━━━━━━━━━━━━━━━━━━━━━━━━━━━━━\u001b[0m \u001b[32m3.5/3.5 MB\u001b[0m \u001b[31m32.5 MB/s\u001b[0m eta \u001b[36m0:00:00\u001b[0ma \u001b[36m0:00:01\u001b[0m\n",
            "\u001b[?25hDownloading protobuf-5.27.2-cp38-abi3-macosx_10_9_universal2.whl (412 kB)\n",
            "\u001b[2K   \u001b[90m━━━━━━━━━━━━━━━━━━━━━━━━━━━━━━━━━━━━━━━━\u001b[0m \u001b[32m412.2/412.2 kB\u001b[0m \u001b[31m11.3 MB/s\u001b[0m eta \u001b[36m0:00:00\u001b[0m00:01\u001b[0m\n",
            "\u001b[?25hDownloading pyarrow-16.1.0-cp311-cp311-macosx_10_15_x86_64.whl (28.4 MB)\n",
            "\u001b[2K   \u001b[90m━━━━━━━━━━━━━━━━━━━━━━━━━━━━━━━━━━━━━━━━\u001b[0m \u001b[32m28.4/28.4 MB\u001b[0m \u001b[31m34.1 MB/s\u001b[0m eta \u001b[36m0:00:00\u001b[0m00:01\u001b[0m00:01\u001b[0m\n",
            "\u001b[?25hDownloading pydeck-0.9.1-py2.py3-none-any.whl (6.9 MB)\n",
            "\u001b[2K   \u001b[90m━━━━━━━━━━━━━━━━━━━━━━━━━━━━━━━━━━━━━━━━\u001b[0m \u001b[32m6.9/6.9 MB\u001b[0m \u001b[31m32.5 MB/s\u001b[0m eta \u001b[36m0:00:00\u001b[0m00:01\u001b[0m00:01\u001b[0m\n",
            "\u001b[?25hDownloading pytz-2024.1-py2.py3-none-any.whl (505 kB)\n",
            "\u001b[2K   \u001b[90m━━━━━━━━━━━━━━━━━━━━━━━━━━━━━━━━━━━━━━━━\u001b[0m \u001b[32m505.5/505.5 kB\u001b[0m \u001b[31m11.6 MB/s\u001b[0m eta \u001b[36m0:00:00\u001b[0m00:01\u001b[0m\n",
            "\u001b[?25hDownloading rich-13.7.1-py3-none-any.whl (240 kB)\n",
            "\u001b[2K   \u001b[90m━━━━━━━━━━━━━━━━━━━━━━━━━━━━━━━━━━━━━━━━\u001b[0m \u001b[32m240.7/240.7 kB\u001b[0m \u001b[31m6.9 MB/s\u001b[0m eta \u001b[36m0:00:00\u001b[0m\n",
            "\u001b[?25hDownloading SQLAlchemy-2.0.31-cp311-cp311-macosx_10_9_x86_64.whl (2.1 MB)\n",
            "\u001b[2K   \u001b[90m━━━━━━━━━━━━━━━━━━━━━━━━━━━━━━━━━━━━━━━━\u001b[0m \u001b[32m2.1/2.1 MB\u001b[0m \u001b[31m26.0 MB/s\u001b[0m eta \u001b[36m0:00:00\u001b[0m00:01\u001b[0m00:01\u001b[0m\n",
            "\u001b[?25hDownloading tenacity-8.5.0-py3-none-any.whl (28 kB)\n",
            "Downloading texttable-1.7.0-py2.py3-none-any.whl (10 kB)\n",
            "Downloading toml-0.10.2-py2.py3-none-any.whl (16 kB)\n",
            "Downloading beautifulsoup4-4.12.3-py3-none-any.whl (147 kB)\n",
            "\u001b[2K   \u001b[90m━━━━━━━━━━━━━━━━━━━━━━━━━━━━━━━━━━━━━━━━\u001b[0m \u001b[32m147.9/147.9 kB\u001b[0m \u001b[31m4.5 MB/s\u001b[0m eta \u001b[36m0:00:00\u001b[0m\n",
            "\u001b[?25hUsing cached monotonic-1.6-py2.py3-none-any.whl (8.2 kB)\n",
            "Using cached aiosignal-1.3.1-py3-none-any.whl (7.6 kB)\n",
            "Downloading attrs-23.2.0-py3-none-any.whl (60 kB)\n",
            "\u001b[2K   \u001b[90m━━━━━━━━━━━━━━━━━━━━━━━━━━━━━━━━━━━━━━━━\u001b[0m \u001b[32m60.8/60.8 kB\u001b[0m \u001b[31m1.9 MB/s\u001b[0m eta \u001b[36m0:00:00\u001b[0m\n",
            "\u001b[?25hDownloading frozenlist-1.4.1-cp311-cp311-macosx_10_9_x86_64.whl (55 kB)\n",
            "\u001b[2K   \u001b[90m━━━━━━━━━━━━━━━━━━━━━━━━━━━━━━━━━━━━━━━━\u001b[0m \u001b[32m55.3/55.3 kB\u001b[0m \u001b[31m1.6 MB/s\u001b[0m eta \u001b[36m0:00:00\u001b[0m\n",
            "\u001b[?25hDownloading gitdb-4.0.11-py3-none-any.whl (62 kB)\n",
            "\u001b[2K   \u001b[90m━━━━━━━━━━━━━━━━━━━━━━━━━━━━━━━━━━━━━━━━\u001b[0m \u001b[32m62.7/62.7 kB\u001b[0m \u001b[31m2.1 MB/s\u001b[0m eta \u001b[36m0:00:00\u001b[0m\n",
            "\u001b[?25hDownloading greenlet-3.0.3-cp311-cp311-macosx_11_0_universal2.whl (271 kB)\n",
            "\u001b[2K   \u001b[90m━━━━━━━━━━━━━━━━━━━━━━━━━━━━━━━━━━━━━━━━\u001b[0m \u001b[32m271.7/271.7 kB\u001b[0m \u001b[31m8.6 MB/s\u001b[0m eta \u001b[36m0:00:00\u001b[0m\n",
            "\u001b[?25hDownloading jsonpointer-3.0.0-py2.py3-none-any.whl (7.6 kB)\n",
            "Downloading jsonschema-4.23.0-py3-none-any.whl (88 kB)\n",
            "\u001b[2K   \u001b[90m━━━━━━━━━━━━━━━━━━━━━━━━━━━━━━━━━━━━━━━━\u001b[0m \u001b[32m88.5/88.5 kB\u001b[0m \u001b[31m2.7 MB/s\u001b[0m eta \u001b[36m0:00:00\u001b[0m\n",
            "\u001b[?25hDownloading markdown_it_py-3.0.0-py3-none-any.whl (87 kB)\n",
            "\u001b[2K   \u001b[90m━━━━━━━━━━━━━━━━━━━━━━━━━━━━━━━━━━━━━━━━\u001b[0m \u001b[32m87.5/87.5 kB\u001b[0m \u001b[31m2.9 MB/s\u001b[0m eta \u001b[36m0:00:00\u001b[0m\n",
            "\u001b[?25hDownloading marshmallow-3.21.3-py3-none-any.whl (49 kB)\n",
            "\u001b[2K   \u001b[90m━━━━━━━━━━━━━━━━━━━━━━━━━━━━━━━━━━━━━━━━\u001b[0m \u001b[32m49.2/49.2 kB\u001b[0m \u001b[31m1.3 MB/s\u001b[0m eta \u001b[36m0:00:00\u001b[0m\n",
            "\u001b[?25hDownloading multidict-6.0.5-cp311-cp311-macosx_10_9_x86_64.whl (30 kB)\n",
            "Downloading orjson-3.10.6-cp311-cp311-macosx_10_15_x86_64.macosx_11_0_arm64.macosx_10_15_universal2.whl (250 kB)\n",
            "\u001b[2K   \u001b[90m━━━━━━━━━━━━━━━━━━━━━━━━━━━━━━━━━━━━━━━━\u001b[0m \u001b[32m250.5/250.5 kB\u001b[0m \u001b[31m7.5 MB/s\u001b[0m eta \u001b[36m0:00:00\u001b[0m\n",
            "\u001b[?25hDownloading soupsieve-2.5-py3-none-any.whl (36 kB)\n",
            "Downloading typing_inspect-0.9.0-py3-none-any.whl (8.8 kB)\n",
            "Downloading tzdata-2024.1-py2.py3-none-any.whl (345 kB)\n",
            "\u001b[2K   \u001b[90m━━━━━━━━━━━━━━━━━━━━━━━━━━━━━━━━━━━━━━━━\u001b[0m \u001b[32m345.4/345.4 kB\u001b[0m \u001b[31m10.7 MB/s\u001b[0m eta \u001b[36m0:00:00\u001b[0m\n",
            "\u001b[?25hDownloading yarl-1.9.4-cp311-cp311-macosx_10_9_x86_64.whl (83 kB)\n",
            "\u001b[2K   \u001b[90m━━━━━━━━━━━━━━━━━━━━━━━━━━━━━━━━━━━━━━━━\u001b[0m \u001b[32m83.2/83.2 kB\u001b[0m \u001b[31m2.6 MB/s\u001b[0m eta \u001b[36m0:00:00\u001b[0m\n",
            "\u001b[?25hDownloading pycparser-2.22-py3-none-any.whl (117 kB)\n",
            "\u001b[2K   \u001b[90m━━━━━━━━━━━━━━━━━━━━━━━━━━━━━━━━━━━━━━━━\u001b[0m \u001b[32m117.6/117.6 kB\u001b[0m \u001b[31m3.6 MB/s\u001b[0m eta \u001b[36m0:00:00\u001b[0m\n",
            "\u001b[?25hDownloading toolz-0.12.1-py3-none-any.whl (56 kB)\n",
            "\u001b[2K   \u001b[90m━━━━━━━━━━━━━━━━━━━━━━━━━━━━━━━━━━━━━━━━\u001b[0m \u001b[32m56.1/56.1 kB\u001b[0m \u001b[31m1.4 MB/s\u001b[0m eta \u001b[36m0:00:00\u001b[0m\n",
            "\u001b[?25hDownloading jsonschema_specifications-2023.12.1-py3-none-any.whl (18 kB)\n",
            "Using cached mdurl-0.1.2-py3-none-any.whl (10.0 kB)\n",
            "Downloading mypy_extensions-1.0.0-py3-none-any.whl (4.7 kB)\n",
            "Downloading referencing-0.35.1-py3-none-any.whl (26 kB)\n",
            "Downloading rpds_py-0.19.0-cp311-cp311-macosx_10_12_x86_64.whl (317 kB)\n",
            "\u001b[2K   \u001b[90m━━━━━━━━━━━━━━━━━━━━━━━━━━━━━━━━━━━━━━━━\u001b[0m \u001b[32m317.8/317.8 kB\u001b[0m \u001b[31m9.1 MB/s\u001b[0m eta \u001b[36m0:00:00\u001b[0m\n",
            "\u001b[?25hDownloading smmap-5.0.1-py3-none-any.whl (24 kB)\n",
            "Building wheels for collected packages: wikipedia\n",
            "  Building wheel for wikipedia (pyproject.toml) ... \u001b[?25ldone\n",
            "\u001b[?25h  Created wheel for wikipedia: filename=wikipedia-1.4.0-py3-none-any.whl size=11678 sha256=1b71d0cb782ca356a64d3fa761fa2096c9adfd1fccdc858333f2c2e55141fc7f\n",
            "  Stored in directory: /Users/_uh17/Library/Caches/pip/wheels/8f/ab/cb/45ccc40522d3a1c41e1d2ad53b8f33a62f394011ec38cd71c6\n",
            "Successfully built wikipedia\n",
            "Installing collected packages: texttable, pytz, monotonic, tzdata, toolz, toml, tenacity, soupsieve, smmap, rpds-py, pycparser, pyarrow, protobuf, pillow, pansi, orjson, neo4j, mypy-extensions, multidict, mdurl, marshmallow, jsonpointer, jsonpickle, interchange, igraph, greenlet, frozenlist, click, cachetools, blinker, attrs, yarl, typing-inspect, tiktoken, SQLAlchemy, referencing, pydeck, py2neo, pandas, markdown-it-py, jsonpatch, gitdb, cffi, beautifulsoup4, aiosignal, wikipedia, rich, openai, langsmith, jsonschema-specifications, gitpython, dataclasses-json, cairocffi, aiohttp, pyvis, langchain-core, jsonschema, langchain-text-splitters, langchain-openai, altair, streamlit, langchain, langchain-community, langchain-experimental\n"
          ]
        }
      ],
      "source": [
        "!pip install  langchain langchain-community langchain-openai langchain-experimental wikipedia tiktoken py2neo streamlit neo4j langchain-core pyvis cairocffi igraph"
      ]
    },
    {
      "cell_type": "code",
      "execution_count": 2,
      "metadata": {
        "id": "mFNKLd1in68E"
      },
      "outputs": [],
      "source": [
        "from langchain_core.runnables import (\n",
        "    RunnableBranch,\n",
        "    RunnableLambda,\n",
        "    RunnableParallel,\n",
        "    RunnablePassthrough,\n",
        ")\n",
        "from langchain_core.prompts import ChatPromptTemplate\n",
        "from langchain_core.prompts.prompt import PromptTemplate\n",
        "from langchain_core.pydantic_v1 import BaseModel, Field\n",
        "from typing import Tuple, List, Optional\n",
        "from langchain_core.messages import AIMessage, HumanMessage\n",
        "from langchain_core.output_parsers import StrOutputParser\n",
        "import os\n",
        "from langchain_community.graphs import Neo4jGraph\n",
        "from langchain.document_loaders import WikipediaLoader\n",
        "from langchain.text_splitter import TokenTextSplitter\n",
        "from langchain_openai import ChatOpenAI\n",
        "from langchain_experimental.graph_transformers import LLMGraphTransformer\n",
        "from neo4j import GraphDatabase\n",
        "from langchain_community.vectorstores import Neo4jVector\n",
        "from langchain_openai import OpenAIEmbeddings\n",
        "from langchain_community.vectorstores.neo4j_vector import remove_lucene_chars\n",
        "from langchain_core.runnables import ConfigurableField, RunnableParallel, RunnablePassthrough\n",
        "\n",
        "from langchain_openai import OpenAIEmbeddings\n",
        "import igraph as ig\n",
        "import os\n",
        "\n",
        "try:\n",
        "  import google.colab\n",
        "  from google.colab import output\n",
        "  output.enable_custom_widget_manager()\n",
        "except:\n",
        "  pass"
      ]
    },
    {
      "cell_type": "code",
      "execution_count": 3,
      "metadata": {
        "id": "BQk4b06qnjUJ"
      },
      "outputs": [],
      "source": [
        "import pandas as pd\n",
        "from py2neo import Graph\n",
        "from pyvis.network import Network\n",
        "import networkx as nx\n",
        "import plotly.graph_objects as go"
      ]
    },
    {
      "cell_type": "code",
      "execution_count": 4,
      "metadata": {
        "id": "R1CfBy42nmH3"
      },
      "outputs": [],
      "source": [
        "# --- Step 1: Connect to Neo4j (Replace with your credentials) ---\n",
        "graph = Graph(auth=(\"neo4j\", \"12345678\"), uri=\"bolt://localhost:7687\")"
      ]
    },
    {
      "cell_type": "code",
      "execution_count": 5,
      "metadata": {
        "colab": {
          "base_uri": "https://localhost:8080/",
          "height": 34
        },
        "id": "aCCUeMIylmXQ",
        "outputId": "577b70fc-55f1-49bf-aff6-d124f7a62ddc"
      },
      "outputs": [
        {
          "data": {
            "text/html": [
              "(No data)"
            ],
            "text/plain": [
              "(No data)"
            ]
          },
          "execution_count": 5,
          "metadata": {},
          "output_type": "execute_result"
        }
      ],
      "source": [
        "# Clear existing data (Optional)\n",
        "graph.run(\"MATCH (n) DETACH DELETE n\")"
      ]
    },
    {
      "cell_type": "code",
      "execution_count": 6,
      "metadata": {
        "colab": {
          "base_uri": "https://localhost:8080/",
          "height": 510
        },
        "id": "ZSGbjtV0noPl",
        "outputId": "815a7276-c9ef-48e9-8323-cb7e9ead40a0"
      },
      "outputs": [
        {
          "data": {
            "text/html": [
              "<div>\n",
              "<style scoped>\n",
              "    .dataframe tbody tr th:only-of-type {\n",
              "        vertical-align: middle;\n",
              "    }\n",
              "\n",
              "    .dataframe tbody tr th {\n",
              "        vertical-align: top;\n",
              "    }\n",
              "\n",
              "    .dataframe thead th {\n",
              "        text-align: right;\n",
              "    }\n",
              "</style>\n",
              "<table border=\"1\" class=\"dataframe\">\n",
              "  <thead>\n",
              "    <tr style=\"text-align: right;\">\n",
              "      <th></th>\n",
              "      <th>Segment</th>\n",
              "      <th>Country</th>\n",
              "      <th>Product</th>\n",
              "      <th>Discount Band</th>\n",
              "      <th>Units Sold</th>\n",
              "      <th>Manufacturing Price</th>\n",
              "      <th>sales price</th>\n",
              "      <th>Gross Sales</th>\n",
              "      <th>Discounts</th>\n",
              "      <th>Sales</th>\n",
              "      <th>COGS</th>\n",
              "      <th>Profit</th>\n",
              "      <th>Date</th>\n",
              "      <th>Month Number</th>\n",
              "      <th>Month Name</th>\n",
              "      <th>Year</th>\n",
              "    </tr>\n",
              "  </thead>\n",
              "  <tbody>\n",
              "    <tr>\n",
              "      <th>0</th>\n",
              "      <td>Government</td>\n",
              "      <td>Canada</td>\n",
              "      <td>Carretera</td>\n",
              "      <td>None</td>\n",
              "      <td>$1,618.50</td>\n",
              "      <td>$3.00</td>\n",
              "      <td>$20.00</td>\n",
              "      <td>$30,000</td>\n",
              "      <td>NaN</td>\n",
              "      <td>$32,370.00</td>\n",
              "      <td>$16,185.00</td>\n",
              "      <td>$16,185.00</td>\n",
              "      <td>1/1/2014</td>\n",
              "      <td>1</td>\n",
              "      <td>January</td>\n",
              "      <td>2014</td>\n",
              "    </tr>\n",
              "    <tr>\n",
              "      <th>1</th>\n",
              "      <td>Government</td>\n",
              "      <td>Germany</td>\n",
              "      <td>Carretera</td>\n",
              "      <td>None</td>\n",
              "      <td>$1,321.00</td>\n",
              "      <td>$3.00</td>\n",
              "      <td>$20.00</td>\n",
              "      <td>$26,420.00</td>\n",
              "      <td>NaN</td>\n",
              "      <td>$26,420.00</td>\n",
              "      <td>$13,210.00</td>\n",
              "      <td>$13,210.00</td>\n",
              "      <td>1/1/2014</td>\n",
              "      <td>1</td>\n",
              "      <td>January</td>\n",
              "      <td>2014</td>\n",
              "    </tr>\n",
              "    <tr>\n",
              "      <th>2</th>\n",
              "      <td>Midmarket</td>\n",
              "      <td>France</td>\n",
              "      <td>Carretera</td>\n",
              "      <td>None</td>\n",
              "      <td>$2,178.00</td>\n",
              "      <td>$3.00</td>\n",
              "      <td>$15.00</td>\n",
              "      <td>$32,670.00</td>\n",
              "      <td>NaN</td>\n",
              "      <td>$32,670.00</td>\n",
              "      <td>$21,780.00</td>\n",
              "      <td>$10,890.00</td>\n",
              "      <td>1/6/2014</td>\n",
              "      <td>6</td>\n",
              "      <td>June</td>\n",
              "      <td>2014</td>\n",
              "    </tr>\n",
              "    <tr>\n",
              "      <th>3</th>\n",
              "      <td>Midmarket</td>\n",
              "      <td>Germany</td>\n",
              "      <td>Carretera</td>\n",
              "      <td>None</td>\n",
              "      <td>$888.00</td>\n",
              "      <td>$3.00</td>\n",
              "      <td>$15.00</td>\n",
              "      <td>$13,320.00</td>\n",
              "      <td>NaN</td>\n",
              "      <td>$13,320.00</td>\n",
              "      <td>$8,880.00</td>\n",
              "      <td>$4,440.00</td>\n",
              "      <td>1/6/2014</td>\n",
              "      <td>6</td>\n",
              "      <td>June</td>\n",
              "      <td>2014</td>\n",
              "    </tr>\n",
              "    <tr>\n",
              "      <th>4</th>\n",
              "      <td>Midmarket</td>\n",
              "      <td>Mexico</td>\n",
              "      <td>Carretera</td>\n",
              "      <td>None</td>\n",
              "      <td>$2,470.00</td>\n",
              "      <td>$3.00</td>\n",
              "      <td>$15.00</td>\n",
              "      <td>$37,050.00</td>\n",
              "      <td>NaN</td>\n",
              "      <td>$37,050.00</td>\n",
              "      <td>$24,700.00</td>\n",
              "      <td>$12,350.00</td>\n",
              "      <td>1/6/2014</td>\n",
              "      <td>6</td>\n",
              "      <td>June</td>\n",
              "      <td>2014</td>\n",
              "    </tr>\n",
              "    <tr>\n",
              "      <th>...</th>\n",
              "      <td>...</td>\n",
              "      <td>...</td>\n",
              "      <td>...</td>\n",
              "      <td>...</td>\n",
              "      <td>...</td>\n",
              "      <td>...</td>\n",
              "      <td>...</td>\n",
              "      <td>...</td>\n",
              "      <td>...</td>\n",
              "      <td>...</td>\n",
              "      <td>...</td>\n",
              "      <td>...</td>\n",
              "      <td>...</td>\n",
              "      <td>...</td>\n",
              "      <td>...</td>\n",
              "      <td>...</td>\n",
              "    </tr>\n",
              "    <tr>\n",
              "      <th>695</th>\n",
              "      <td>Small Business</td>\n",
              "      <td>France</td>\n",
              "      <td>Amarilla</td>\n",
              "      <td>High</td>\n",
              "      <td>$2,475.00</td>\n",
              "      <td>$260.00</td>\n",
              "      <td>$300.00</td>\n",
              "      <td>$7,42,500.00</td>\n",
              "      <td>$1,11,375.00</td>\n",
              "      <td>$6,31,125.00</td>\n",
              "      <td>$6,18,750.00</td>\n",
              "      <td>$12,375.00</td>\n",
              "      <td>1/3/2014</td>\n",
              "      <td>3</td>\n",
              "      <td>March</td>\n",
              "      <td>2014</td>\n",
              "    </tr>\n",
              "    <tr>\n",
              "      <th>696</th>\n",
              "      <td>Small Business</td>\n",
              "      <td>Mexico</td>\n",
              "      <td>Amarilla</td>\n",
              "      <td>High</td>\n",
              "      <td>$546.00</td>\n",
              "      <td>$260.00</td>\n",
              "      <td>$300.00</td>\n",
              "      <td>$1,63,800.00</td>\n",
              "      <td>$24,570.00</td>\n",
              "      <td>$1,39,230.00</td>\n",
              "      <td>$1,36,500.00</td>\n",
              "      <td>$2,730.00</td>\n",
              "      <td>1/10/2014</td>\n",
              "      <td>10</td>\n",
              "      <td>October</td>\n",
              "      <td>2014</td>\n",
              "    </tr>\n",
              "    <tr>\n",
              "      <th>697</th>\n",
              "      <td>Government</td>\n",
              "      <td>Mexico</td>\n",
              "      <td>Montana</td>\n",
              "      <td>High</td>\n",
              "      <td>$1,368.00</td>\n",
              "      <td>$5.00</td>\n",
              "      <td>$7.00</td>\n",
              "      <td>$9,576.00</td>\n",
              "      <td>$1,436.40</td>\n",
              "      <td>$8,139.60</td>\n",
              "      <td>$6,840.00</td>\n",
              "      <td>$1,299.60</td>\n",
              "      <td>1/2/2014</td>\n",
              "      <td>2</td>\n",
              "      <td>February</td>\n",
              "      <td>2014</td>\n",
              "    </tr>\n",
              "    <tr>\n",
              "      <th>698</th>\n",
              "      <td>Government</td>\n",
              "      <td>Canada</td>\n",
              "      <td>Paseo</td>\n",
              "      <td>High</td>\n",
              "      <td>$723.00</td>\n",
              "      <td>$10.00</td>\n",
              "      <td>$7.00</td>\n",
              "      <td>$5,061.00</td>\n",
              "      <td>$759.15</td>\n",
              "      <td>$4,301.85</td>\n",
              "      <td>$3,615.00</td>\n",
              "      <td>$686.85</td>\n",
              "      <td>1/4/2014</td>\n",
              "      <td>4</td>\n",
              "      <td>April</td>\n",
              "      <td>2014</td>\n",
              "    </tr>\n",
              "    <tr>\n",
              "      <th>699</th>\n",
              "      <td>Channel Partners</td>\n",
              "      <td>United States of America</td>\n",
              "      <td>VTT</td>\n",
              "      <td>High</td>\n",
              "      <td>$1,806.00</td>\n",
              "      <td>$250.00</td>\n",
              "      <td>$12.00</td>\n",
              "      <td>$21,672.00</td>\n",
              "      <td>$3,250.80</td>\n",
              "      <td>$18,421.20</td>\n",
              "      <td>$5,418.00</td>\n",
              "      <td>$13,003.20</td>\n",
              "      <td>1/5/2014</td>\n",
              "      <td>5</td>\n",
              "      <td>May</td>\n",
              "      <td>2014</td>\n",
              "    </tr>\n",
              "  </tbody>\n",
              "</table>\n",
              "<p>700 rows × 16 columns</p>\n",
              "</div>"
            ],
            "text/plain": [
              "              Segment                   Country      Product Discount Band  \\\n",
              "0          Government                    Canada   Carretera          None    \n",
              "1          Government                   Germany   Carretera          None    \n",
              "2           Midmarket                    France   Carretera          None    \n",
              "3           Midmarket                   Germany   Carretera          None    \n",
              "4           Midmarket                    Mexico   Carretera          None    \n",
              "..                ...                       ...          ...           ...   \n",
              "695    Small Business                    France    Amarilla          High    \n",
              "696    Small Business                    Mexico    Amarilla          High    \n",
              "697        Government                    Mexico     Montana          High    \n",
              "698        Government                    Canada       Paseo          High    \n",
              "699  Channel Partners  United States of America         VTT          High    \n",
              "\n",
              "     Units Sold Manufacturing Price sales price     Gross Sales  \\\n",
              "0    $1,618.50               $3.00      $20.00         $30,000    \n",
              "1    $1,321.00               $3.00      $20.00      $26,420.00    \n",
              "2    $2,178.00               $3.00      $15.00      $32,670.00    \n",
              "3      $888.00               $3.00      $15.00      $13,320.00    \n",
              "4    $2,470.00               $3.00      $15.00      $37,050.00    \n",
              "..          ...                 ...         ...             ...   \n",
              "695  $2,475.00             $260.00     $300.00    $7,42,500.00    \n",
              "696    $546.00             $260.00     $300.00    $1,63,800.00    \n",
              "697  $1,368.00               $5.00       $7.00       $9,576.00    \n",
              "698    $723.00              $10.00       $7.00       $5,061.00    \n",
              "699  $1,806.00             $250.00      $12.00      $21,672.00    \n",
              "\n",
              "          Discounts           Sales            COGS       Profit       Date  \\\n",
              "0               NaN     $32,370.00      $16,185.00   $16,185.00    1/1/2014   \n",
              "1               NaN     $26,420.00      $13,210.00   $13,210.00    1/1/2014   \n",
              "2               NaN     $32,670.00      $21,780.00   $10,890.00    1/6/2014   \n",
              "3               NaN     $13,320.00       $8,880.00    $4,440.00    1/6/2014   \n",
              "4               NaN     $37,050.00      $24,700.00   $12,350.00    1/6/2014   \n",
              "..              ...             ...             ...          ...        ...   \n",
              "695   $1,11,375.00    $6,31,125.00    $6,18,750.00   $12,375.00    1/3/2014   \n",
              "696     $24,570.00    $1,39,230.00    $1,36,500.00    $2,730.00   1/10/2014   \n",
              "697      $1,436.40       $8,139.60       $6,840.00    $1,299.60    1/2/2014   \n",
              "698        $759.15       $4,301.85       $3,615.00      $686.85    1/4/2014   \n",
              "699      $3,250.80      $18,421.20       $5,418.00   $13,003.20    1/5/2014   \n",
              "\n",
              "     Month Number  Month Name  Year  \n",
              "0               1    January   2014  \n",
              "1               1    January   2014  \n",
              "2               6       June   2014  \n",
              "3               6       June   2014  \n",
              "4               6       June   2014  \n",
              "..            ...         ...   ...  \n",
              "695             3      March   2014  \n",
              "696            10    October   2014  \n",
              "697             2   February   2014  \n",
              "698             4      April   2014  \n",
              "699             5        May   2014  \n",
              "\n",
              "[700 rows x 16 columns]"
            ]
          },
          "execution_count": 6,
          "metadata": {},
          "output_type": "execute_result"
        }
      ],
      "source": [
        "# --- Step 2: Load CSV Data ---\n",
        "data1 = pd.read_csv(\"Financials.csv\")\n",
        "data1.columns = data1.columns.str.strip()\n",
        "data1"
      ]
    },
    {
      "cell_type": "code",
      "execution_count": 7,
      "metadata": {
        "colab": {
          "base_uri": "https://localhost:8080/"
        },
        "id": "_Q7W2MNh2kOz",
        "outputId": "14152950-35ce-4a86-a187-6da521825618"
      },
      "outputs": [
        {
          "data": {
            "text/plain": [
              "700"
            ]
          },
          "execution_count": 7,
          "metadata": {},
          "output_type": "execute_result"
        }
      ],
      "source": [
        "len(data1)"
      ]
    },
    {
      "cell_type": "code",
      "execution_count": 8,
      "metadata": {
        "id": "LmI4XFbUnqBV"
      },
      "outputs": [],
      "source": [
        "# Create nodes (MERGE prevents duplicates)\n",
        "for index, row in data1.iterrows():\n",
        "    segment_name = row[\"Segment\"]\n",
        "    country_name = row[\"Country\"]\n",
        "    product_name = row[\"Product\"]\n",
        "\n",
        "    graph.run(\"MERGE (s:Segment {name: $segment_name})\", segment_name=segment_name)\n",
        "    graph.run(\"MERGE (c:Country {name: $country_name})\", country_name=country_name)\n",
        "    graph.run(\"MERGE (p:Product {name: $product_name})\", product_name=product_name)"
      ]
    },
    {
      "cell_type": "code",
      "execution_count": 9,
      "metadata": {
        "id": "oRAt8jrans1t"
      },
      "outputs": [],
      "source": [
        "# Add Relationships and Properties\n",
        "for index, row in data1.iterrows():\n",
        "    product_name = row[\"Product\"]\n",
        "    country_name = row[\"Country\"]\n",
        "    sales_value = row['Sales']\n",
        "\n",
        "    graph.run(\"MATCH (p:Product {name: $product_name}), (c:Country {name: $country_name}) CREATE (p)-[r:SOLD_IN {sales: $sales_value}]->(c)\",\n",
        "              product_name=product_name, country_name=country_name, sales_value=sales_value)"
      ]
    },
    {
      "cell_type": "code",
      "execution_count": 10,
      "metadata": {
        "colab": {
          "base_uri": "https://localhost:8080/",
          "height": 103
        },
        "id": "MTkVmaCFA3z_",
        "outputId": "0acebda0-5455-4ac1-9083-bc89a1523036"
      },
      "outputs": [
        {
          "data": {
            "text/html": [
              "<table><tr><th>n</th><th>r</th><th>m</th></tr><tr><td style=\"text-align:left\">(_18:Product {name: &#039; Carretera &#039;})</td><td style=\"text-align:left\">(Carretera)-[:SOLD_IN {sales: &#039;$32,370.00 &#039;}]-&gt;(Canada)</td><td style=\"text-align:left\">(_17:Country {name: &#039;Canada&#039;})</td></tr><tr><td style=\"text-align:left\">(_18:Product {name: &#039; Carretera &#039;})</td><td style=\"text-align:left\">(Carretera)-[:SOLD_IN {sales: &#039;$26,420.00 &#039;}]-&gt;(Germany)</td><td style=\"text-align:left\">(_19:Country {name: &#039;Germany&#039;})</td></tr><tr><td style=\"text-align:left\">(_18:Product {name: &#039; Carretera &#039;})</td><td style=\"text-align:left\">(Carretera)-[:SOLD_IN {sales: &#039;$32,670.00 &#039;}]-&gt;(France)</td><td style=\"text-align:left\">(_21:Country {name: &#039;France&#039;})</td></tr></table>"
            ],
            "text/plain": [
              " n                                   | r                                                        | m                               \n",
              "-------------------------------------|----------------------------------------------------------|---------------------------------\n",
              " (_18:Product {name: ' Carretera '}) | (Carretera)-[:SOLD_IN {sales: '$32,370.00 '}]->(Canada)  | (_17:Country {name: 'Canada'})  \n",
              " (_18:Product {name: ' Carretera '}) | (Carretera)-[:SOLD_IN {sales: '$26,420.00 '}]->(Germany) | (_19:Country {name: 'Germany'}) \n",
              " (_18:Product {name: ' Carretera '}) | (Carretera)-[:SOLD_IN {sales: '$32,670.00 '}]->(France)  | (_21:Country {name: 'France'})  "
            ]
          },
          "execution_count": 10,
          "metadata": {},
          "output_type": "execute_result"
        }
      ],
      "source": [
        "graph.run(\"MATCH (n)-[r]->(m) RETURN n, r, m\")\n"
      ]
    },
    {
      "cell_type": "code",
      "execution_count": 11,
      "metadata": {
        "colab": {
          "base_uri": "https://localhost:8080/",
          "height": 103
        },
        "id": "uyS28ce6Q28u",
        "outputId": "8bd19e4b-ba6a-49e7-b57b-836236ff4f5e"
      },
      "outputs": [
        {
          "data": {
            "text/html": [
              "<table><tr><th>n</th></tr><tr><td style=\"text-align:left\">(_16:Segment {name: &#039;Government&#039;})</td></tr><tr><td style=\"text-align:left\">(_17:Country {name: &#039;Canada&#039;})</td></tr><tr><td style=\"text-align:left\">(_18:Product {name: &#039; Carretera &#039;})</td></tr></table>"
            ],
            "text/plain": [
              " n                                   \n",
              "-------------------------------------\n",
              " (_16:Segment {name: 'Government'})  \n",
              " (_17:Country {name: 'Canada'})      \n",
              " (_18:Product {name: ' Carretera '}) "
            ]
          },
          "execution_count": 11,
          "metadata": {},
          "output_type": "execute_result"
        }
      ],
      "source": [
        "graph.run(\"MATCH (n) WHERE n.name IS NOT NULL RETURN n\")\n"
      ]
    },
    {
      "cell_type": "code",
      "execution_count": 12,
      "metadata": {
        "colab": {
          "base_uri": "https://localhost:8080/",
          "height": 103
        },
        "id": "vHHQh6FUOloW",
        "outputId": "1aedc867-1a96-4cde-bd09-d67b4dbee89c"
      },
      "outputs": [
        {
          "data": {
            "text/html": [
              "<table><tr><th>n</th></tr><tr><td style=\"text-align:left\">(_16:Segment {name: &#039;Government&#039;})</td></tr><tr><td style=\"text-align:left\">(_17:Country {name: &#039;Canada&#039;})</td></tr><tr><td style=\"text-align:left\">(_18:Product {name: &#039; Carretera &#039;})</td></tr></table>"
            ],
            "text/plain": [
              " n                                   \n",
              "-------------------------------------\n",
              " (_16:Segment {name: 'Government'})  \n",
              " (_17:Country {name: 'Canada'})      \n",
              " (_18:Product {name: ' Carretera '}) "
            ]
          },
          "execution_count": 12,
          "metadata": {},
          "output_type": "execute_result"
        }
      ],
      "source": [
        "graph.run(\"MATCH (n) RETURN n\")"
      ]
    },
    {
      "cell_type": "code",
      "execution_count": 13,
      "metadata": {
        "id": "f6GYTDZ68YvH"
      },
      "outputs": [],
      "source": [
        "# !pip install networkx plotly\n",
        "import networkx as nx\n",
        "import plotly.graph_objects as go\n",
        "# Create NetworkX graph\n",
        "G = nx.Graph()\n"
      ]
    },
    {
      "cell_type": "code",
      "execution_count": 14,
      "metadata": {
        "id": "Iyu-p0vdHglt"
      },
      "outputs": [],
      "source": [
        "for node_data in graph.run(\"MATCH (n) WHERE n.name IS NOT NULL RETURN n\"):\n",
        "    node = node_data['n']\n",
        "    G.add_node(node['name'], label=node['name'], title=str(node))  # Use 'name' as node ID and label\n",
        "\n",
        "# Add edges\n",
        "for rel_data in graph.run(\"MATCH (n)-[r]->(m) RETURN n, r, m\"):\n",
        "    source = rel_data[\"n\"][\"name\"]\n",
        "    target = rel_data[\"m\"][\"name\"]\n",
        "    rel_type = str(rel_data[\"r\"].type)\n",
        "    sales_value = rel_data[\"r\"][\"sales\"]\n",
        "    G.add_edge(source, target, label=f\"{rel_type} (${sales_value})\")"
      ]
    },
    {
      "cell_type": "code",
      "execution_count": 15,
      "metadata": {
        "colab": {
          "base_uri": "https://localhost:8080/"
        },
        "id": "INalnSso8fmd",
        "outputId": "d0e0e6ac-f67d-429f-d2ed-a6d23a0231b5"
      },
      "outputs": [
        {
          "name": "stdout",
          "output_type": "stream",
          "text": [
            "Number of nodes: 16\n",
            "Number of edges: 30\n"
          ]
        }
      ],
      "source": [
        "# Print graph information for debugging\n",
        "print(f\"Number of nodes: {G.number_of_nodes()}\")\n",
        "print(f\"Number of edges: {G.number_of_edges()}\")"
      ]
    },
    {
      "cell_type": "code",
      "execution_count": 16,
      "metadata": {
        "colab": {
          "base_uri": "https://localhost:8080/"
        },
        "id": "nSsQFMbhF8LF",
        "outputId": "7f850640-1781-4913-bb41-26dceeb15cdc"
      },
      "outputs": [
        {
          "name": "stdout",
          "output_type": "stream",
          "text": [
            "Sample Nodes: [('Government', {'label': 'Government', 'title': \"(_16:Segment {name: 'Government'})\"}), ('Canada', {'label': 'Canada', 'title': \"(_17:Country {name: 'Canada'})\"}), (' Carretera ', {'label': ' Carretera ', 'title': \"(_18:Product {name: ' Carretera '})\"}), ('Germany', {'label': 'Germany', 'title': \"(_19:Country {name: 'Germany'})\"}), ('Midmarket', {'label': 'Midmarket', 'title': \"(_20:Segment {name: 'Midmarket'})\"})]\n"
          ]
        }
      ],
      "source": [
        "print(\"Sample Nodes:\", list(G.nodes(data=True))[0:5])  # Print the first 3 nodes with their attributes"
      ]
    },
    {
      "cell_type": "code",
      "execution_count": 17,
      "metadata": {
        "colab": {
          "base_uri": "https://localhost:8080/"
        },
        "id": "_Prdzm5ZQmVK",
        "outputId": "4616c3dd-87ac-4d36-aabe-2dc167ac1c04"
      },
      "outputs": [
        {
          "name": "stdout",
          "output_type": "stream",
          "text": [
            "Node ID: Government, Label: Government\n",
            "Node ID: Canada, Label: Canada\n",
            "Node ID:  Carretera , Label:  Carretera \n",
            "Node ID: Germany, Label: Germany\n",
            "Node ID: Midmarket, Label: Midmarket\n",
            "Node ID: France, Label: France\n",
            "Node ID: Mexico, Label: Mexico\n",
            "Node ID:  Montana , Label:  Montana \n",
            "Node ID: Channel Partners, Label: Channel Partners\n",
            "Node ID: Enterprise, Label: Enterprise\n",
            "Node ID: Small Business, Label: Small Business\n",
            "Node ID: United States of America, Label: United States of America\n",
            "Node ID:  Paseo , Label:  Paseo \n",
            "Node ID:  Velo , Label:  Velo \n",
            "Node ID:  VTT , Label:  VTT \n",
            "Node ID:  Amarilla , Label:  Amarilla \n"
          ]
        }
      ],
      "source": [
        "# Print node information\n",
        "for node in G.nodes():\n",
        "    print(f\"Node ID: {node}, Label: {G.nodes[node].get('label', 'No Label')}\")\n"
      ]
    },
    {
      "cell_type": "code",
      "execution_count": 18,
      "metadata": {
        "id": "1K3-jCfbwjDg"
      },
      "outputs": [],
      "source": [
        "# Layout for nodes (adjust as needed)\n",
        "# 4. Layout (Adjust if needed)\n",
        "pos = nx.spring_layout(G, k=1, iterations=50)\n"
      ]
    },
    {
      "cell_type": "code",
      "execution_count": 19,
      "metadata": {
        "id": "IqYRowBgAhLY"
      },
      "outputs": [],
      "source": [
        "# Create a Plotly figure\n",
        "fig = go.Figure()"
      ]
    },
    {
      "cell_type": "code",
      "execution_count": 20,
      "metadata": {
        "colab": {
          "base_uri": "https://localhost:8080/",
          "height": 817
        },
        "id": "E74NyFLlOIME",
        "outputId": "454ed8ec-e826-41cd-8640-01f6a7f921f4"
      },
      "outputs": [
        {
          "data": {
            "application/vnd.plotly.v1+json": {
              "config": {
                "plotlyServerURL": "https://plot.ly"
              },
              "data": [
                {
                  "hoverinfo": "text",
                  "marker": {
                    "color": [
                      "red",
                      "red",
                      "red",
                      "red",
                      "red",
                      "red",
                      "red",
                      "red",
                      "red",
                      "red",
                      "red",
                      "red",
                      "red",
                      "red",
                      "red",
                      "red"
                    ],
                    "size": [
                      0,
                      90,
                      75,
                      90,
                      0,
                      90,
                      90,
                      75,
                      0,
                      0,
                      0,
                      90,
                      75,
                      75,
                      75,
                      75
                    ]
                  },
                  "mode": "markers+text",
                  "text": [
                    "Government",
                    "Canada",
                    " Carretera ",
                    "Germany",
                    "Midmarket",
                    "France",
                    "Mexico",
                    " Montana ",
                    "Channel Partners",
                    "Enterprise",
                    "Small Business",
                    "United States of America",
                    " Paseo ",
                    " Velo ",
                    " VTT ",
                    " Amarilla "
                  ],
                  "type": "scatter",
                  "x": [
                    -0.7384207890031835,
                    0.3040325484266785,
                    -0.09305439586521322,
                    0.287369043312312,
                    -0.2491985613742628,
                    0.13837803863910872,
                    0.06374758983007395,
                    0.06888490320000018,
                    -1,
                    0.3041705138759449,
                    -0.49656056810168353,
                    0.18810112849899968,
                    0.5047832650301379,
                    -0.13883050970248179,
                    0.5101257357537092,
                    0.34647205747985943
                  ],
                  "y": [
                    -0.6272698633280515,
                    -0.06909584488196004,
                    0.061342079317563046,
                    0.10400920369850128,
                    -0.8006852510549494,
                    -0.03358112385821819,
                    -0.25938730981559793,
                    0.2017707748099372,
                    0.6784863759140736,
                    0.7826156604400278,
                    0.9353329157832379,
                    -0.20590321494139524,
                    -0.23913018917177564,
                    -0.13680767163830979,
                    -0.0021349067174452493,
                    -0.38956163455563797
                  ]
                },
                {
                  "hoverinfo": "text",
                  "line": {
                    "color": "gray",
                    "width": 1
                  },
                  "mode": "lines+text",
                  "text": [
                    "<function Relationship.type at 0x0000029529ADB560> ($$29,670.00 )"
                  ],
                  "textposition": "middle center",
                  "type": "scatter",
                  "x": [
                    0.3040325484266785,
                    -0.09305439586521322
                  ],
                  "y": [
                    -0.06909584488196004,
                    0.061342079317563046
                  ]
                },
                {
                  "hoverinfo": "text",
                  "line": {
                    "color": "gray",
                    "width": 1
                  },
                  "mode": "lines+text",
                  "text": [
                    "<function Relationship.type at 0x0000029529ADB560> ($$29,670.00 )"
                  ],
                  "textposition": "middle center",
                  "type": "scatter",
                  "x": [
                    0.3040325484266785,
                    0.06888490320000018
                  ],
                  "y": [
                    -0.06909584488196004,
                    0.2017707748099372
                  ]
                },
                {
                  "hoverinfo": "text",
                  "line": {
                    "color": "gray",
                    "width": 1
                  },
                  "mode": "lines+text",
                  "text": [
                    "<function Relationship.type at 0x0000029529ADB560> ($$4,301.85 )"
                  ],
                  "textposition": "middle center",
                  "type": "scatter",
                  "x": [
                    0.3040325484266785,
                    0.5047832650301379
                  ],
                  "y": [
                    -0.06909584488196004,
                    -0.23913018917177564
                  ]
                },
                {
                  "hoverinfo": "text",
                  "line": {
                    "color": "gray",
                    "width": 1
                  },
                  "mode": "lines+text",
                  "text": [
                    "<function Relationship.type at 0x0000029529ADB560> ($$69,402.00 )"
                  ],
                  "textposition": "middle center",
                  "type": "scatter",
                  "x": [
                    0.3040325484266785,
                    -0.13883050970248179
                  ],
                  "y": [
                    -0.06909584488196004,
                    -0.13680767163830979
                  ]
                },
                {
                  "hoverinfo": "text",
                  "line": {
                    "color": "gray",
                    "width": 1
                  },
                  "mode": "lines+text",
                  "text": [
                    "<function Relationship.type at 0x0000029529ADB560> ($ $3,13,862.50 )"
                  ],
                  "textposition": "middle center",
                  "type": "scatter",
                  "x": [
                    0.3040325484266785,
                    0.5101257357537092
                  ],
                  "y": [
                    -0.06909584488196004,
                    -0.0021349067174452493
                  ]
                },
                {
                  "hoverinfo": "text",
                  "line": {
                    "color": "gray",
                    "width": 1
                  },
                  "mode": "lines+text",
                  "text": [
                    "<function Relationship.type at 0x0000029529ADB560> ($$22,484.70 )"
                  ],
                  "textposition": "middle center",
                  "type": "scatter",
                  "x": [
                    0.3040325484266785,
                    0.34647205747985943
                  ],
                  "y": [
                    -0.06909584488196004,
                    -0.38956163455563797
                  ]
                },
                {
                  "hoverinfo": "text",
                  "line": {
                    "color": "gray",
                    "width": 1
                  },
                  "mode": "lines+text",
                  "text": [
                    "<function Relationship.type at 0x0000029529ADB560> ($ $1,15,281.25 )"
                  ],
                  "textposition": "middle center",
                  "type": "scatter",
                  "x": [
                    -0.09305439586521322,
                    0.287369043312312
                  ],
                  "y": [
                    0.061342079317563046,
                    0.10400920369850128
                  ]
                },
                {
                  "hoverinfo": "text",
                  "line": {
                    "color": "gray",
                    "width": 1
                  },
                  "mode": "lines+text",
                  "text": [
                    "<function Relationship.type at 0x0000029529ADB560> ($ $1,24,737.50 )"
                  ],
                  "textposition": "middle center",
                  "type": "scatter",
                  "x": [
                    -0.09305439586521322,
                    0.13837803863910872
                  ],
                  "y": [
                    0.061342079317563046,
                    -0.03358112385821819
                  ]
                },
                {
                  "hoverinfo": "text",
                  "line": {
                    "color": "gray",
                    "width": 1
                  },
                  "mode": "lines+text",
                  "text": [
                    "<function Relationship.type at 0x0000029529ADB560> ($ $3,03,257.50 )"
                  ],
                  "textposition": "middle center",
                  "type": "scatter",
                  "x": [
                    -0.09305439586521322,
                    0.06374758983007395
                  ],
                  "y": [
                    0.061342079317563046,
                    -0.25938730981559793
                  ]
                },
                {
                  "hoverinfo": "text",
                  "line": {
                    "color": "gray",
                    "width": 1
                  },
                  "mode": "lines+text",
                  "text": [
                    "<function Relationship.type at 0x0000029529ADB560> ($ $2,60,580.00 )"
                  ],
                  "textposition": "middle center",
                  "type": "scatter",
                  "x": [
                    -0.09305439586521322,
                    0.18810112849899968
                  ],
                  "y": [
                    0.061342079317563046,
                    -0.20590321494139524
                  ]
                },
                {
                  "hoverinfo": "text",
                  "line": {
                    "color": "gray",
                    "width": 1
                  },
                  "mode": "lines+text",
                  "text": [
                    "<function Relationship.type at 0x0000029529ADB560> ($ $3,60,899.00 )"
                  ],
                  "textposition": "middle center",
                  "type": "scatter",
                  "x": [
                    0.287369043312312,
                    0.06888490320000018
                  ],
                  "y": [
                    0.10400920369850128,
                    0.2017707748099372
                  ]
                },
                {
                  "hoverinfo": "text",
                  "line": {
                    "color": "gray",
                    "width": 1
                  },
                  "mode": "lines+text",
                  "text": [
                    "<function Relationship.type at 0x0000029529ADB560> ($$14,981.25 )"
                  ],
                  "textposition": "middle center",
                  "type": "scatter",
                  "x": [
                    0.287369043312312,
                    0.5047832650301379
                  ],
                  "y": [
                    0.10400920369850128,
                    -0.23913018917177564
                  ]
                },
                {
                  "hoverinfo": "text",
                  "line": {
                    "color": "gray",
                    "width": 1
                  },
                  "mode": "lines+text",
                  "text": [
                    "<function Relationship.type at 0x0000029529ADB560> ($ $6,54,288.00 )"
                  ],
                  "textposition": "middle center",
                  "type": "scatter",
                  "x": [
                    0.287369043312312,
                    -0.13883050970248179
                  ],
                  "y": [
                    0.10400920369850128,
                    -0.13680767163830979
                  ]
                },
                {
                  "hoverinfo": "text",
                  "line": {
                    "color": "gray",
                    "width": 1
                  },
                  "mode": "lines+text",
                  "text": [
                    "<function Relationship.type at 0x0000029529ADB560> ($$58,650.00 )"
                  ],
                  "textposition": "middle center",
                  "type": "scatter",
                  "x": [
                    0.287369043312312,
                    0.5101257357537092
                  ],
                  "y": [
                    0.10400920369850128,
                    -0.0021349067174452493
                  ]
                },
                {
                  "hoverinfo": "text",
                  "line": {
                    "color": "gray",
                    "width": 1
                  },
                  "mode": "lines+text",
                  "text": [
                    "<function Relationship.type at 0x0000029529ADB560> ($$18,478.80 )"
                  ],
                  "textposition": "middle center",
                  "type": "scatter",
                  "x": [
                    0.287369043312312,
                    0.34647205747985943
                  ],
                  "y": [
                    0.10400920369850128,
                    -0.38956163455563797
                  ]
                },
                {
                  "hoverinfo": "text",
                  "line": {
                    "color": "gray",
                    "width": 1
                  },
                  "mode": "lines+text",
                  "text": [
                    "<function Relationship.type at 0x0000029529ADB560> ($$1,763.86 )"
                  ],
                  "textposition": "middle center",
                  "type": "scatter",
                  "x": [
                    0.13837803863910872,
                    0.06888490320000018
                  ],
                  "y": [
                    -0.03358112385821819,
                    0.2017707748099372
                  ]
                },
                {
                  "hoverinfo": "text",
                  "line": {
                    "color": "gray",
                    "width": 1
                  },
                  "mode": "lines+text",
                  "text": [
                    "<function Relationship.type at 0x0000029529ADB560> ($$4,981.00 )"
                  ],
                  "textposition": "middle center",
                  "type": "scatter",
                  "x": [
                    0.13837803863910872,
                    0.5047832650301379
                  ],
                  "y": [
                    -0.03358112385821819,
                    -0.23913018917177564
                  ]
                },
                {
                  "hoverinfo": "text",
                  "line": {
                    "color": "gray",
                    "width": 1
                  },
                  "mode": "lines+text",
                  "text": [
                    "<function Relationship.type at 0x0000029529ADB560> ($$70,443.75 )"
                  ],
                  "textposition": "middle center",
                  "type": "scatter",
                  "x": [
                    0.13837803863910872,
                    -0.13883050970248179
                  ],
                  "y": [
                    -0.03358112385821819,
                    -0.13680767163830979
                  ]
                },
                {
                  "hoverinfo": "text",
                  "line": {
                    "color": "gray",
                    "width": 1
                  },
                  "mode": "lines+text",
                  "text": [
                    "<function Relationship.type at 0x0000029529ADB560> ($$4,981.00 )"
                  ],
                  "textposition": "middle center",
                  "type": "scatter",
                  "x": [
                    0.13837803863910872,
                    0.5101257357537092
                  ],
                  "y": [
                    -0.03358112385821819,
                    -0.0021349067174452493
                  ]
                },
                {
                  "hoverinfo": "text",
                  "line": {
                    "color": "gray",
                    "width": 1
                  },
                  "mode": "lines+text",
                  "text": [
                    "<function Relationship.type at 0x0000029529ADB560> ($ $6,31,125.00 )"
                  ],
                  "textposition": "middle center",
                  "type": "scatter",
                  "x": [
                    0.13837803863910872,
                    0.34647205747985943
                  ],
                  "y": [
                    -0.03358112385821819,
                    -0.38956163455563797
                  ]
                },
                {
                  "hoverinfo": "text",
                  "line": {
                    "color": "gray",
                    "width": 1
                  },
                  "mode": "lines+text",
                  "text": [
                    "<function Relationship.type at 0x0000029529ADB560> ($$8,139.60 )"
                  ],
                  "textposition": "middle center",
                  "type": "scatter",
                  "x": [
                    0.06374758983007395,
                    0.06888490320000018
                  ],
                  "y": [
                    -0.25938730981559793,
                    0.2017707748099372
                  ]
                },
                {
                  "hoverinfo": "text",
                  "line": {
                    "color": "gray",
                    "width": 1
                  },
                  "mode": "lines+text",
                  "text": [
                    "<function Relationship.type at 0x0000029529ADB560> ($ $6,39,922.50 )"
                  ],
                  "textposition": "middle center",
                  "type": "scatter",
                  "x": [
                    0.06374758983007395,
                    0.5047832650301379
                  ],
                  "y": [
                    -0.25938730981559793,
                    -0.23913018917177564
                  ]
                },
                {
                  "hoverinfo": "text",
                  "line": {
                    "color": "gray",
                    "width": 1
                  },
                  "mode": "lines+text",
                  "text": [
                    "<function Relationship.type at 0x0000029529ADB560> ($$5,100.00 )"
                  ],
                  "textposition": "middle center",
                  "type": "scatter",
                  "x": [
                    0.06374758983007395,
                    -0.13883050970248179
                  ],
                  "y": [
                    -0.25938730981559793,
                    -0.13680767163830979
                  ]
                },
                {
                  "hoverinfo": "text",
                  "line": {
                    "color": "gray",
                    "width": 1
                  },
                  "mode": "lines+text",
                  "text": [
                    "<function Relationship.type at 0x0000029529ADB560> ($$17,476.06 )"
                  ],
                  "textposition": "middle center",
                  "type": "scatter",
                  "x": [
                    0.06374758983007395,
                    0.5101257357537092
                  ],
                  "y": [
                    -0.25938730981559793,
                    -0.0021349067174452493
                  ]
                },
                {
                  "hoverinfo": "text",
                  "line": {
                    "color": "gray",
                    "width": 1
                  },
                  "mode": "lines+text",
                  "text": [
                    "<function Relationship.type at 0x0000029529ADB560> ($ $1,39,230.00 )"
                  ],
                  "textposition": "middle center",
                  "type": "scatter",
                  "x": [
                    0.06374758983007395,
                    0.34647205747985943
                  ],
                  "y": [
                    -0.25938730981559793,
                    -0.38956163455563797
                  ]
                },
                {
                  "hoverinfo": "text",
                  "line": {
                    "color": "gray",
                    "width": 1
                  },
                  "mode": "lines+text",
                  "text": [
                    "<function Relationship.type at 0x0000029529ADB560> ($$18,035.92 )"
                  ],
                  "textposition": "middle center",
                  "type": "scatter",
                  "x": [
                    0.06888490320000018,
                    0.18810112849899968
                  ],
                  "y": [
                    0.2017707748099372,
                    -0.20590321494139524
                  ]
                },
                {
                  "hoverinfo": "text",
                  "line": {
                    "color": "gray",
                    "width": 1
                  },
                  "mode": "lines+text",
                  "text": [
                    "<function Relationship.type at 0x0000029529ADB560> ($$9,322.80 )"
                  ],
                  "textposition": "middle center",
                  "type": "scatter",
                  "x": [
                    0.18810112849899968,
                    0.5047832650301379
                  ],
                  "y": [
                    -0.20590321494139524,
                    -0.23913018917177564
                  ]
                },
                {
                  "hoverinfo": "text",
                  "line": {
                    "color": "gray",
                    "width": 1
                  },
                  "mode": "lines+text",
                  "text": [
                    "<function Relationship.type at 0x0000029529ADB560> ($$9,322.80 )"
                  ],
                  "textposition": "middle center",
                  "type": "scatter",
                  "x": [
                    0.18810112849899968,
                    -0.13883050970248179
                  ],
                  "y": [
                    -0.20590321494139524,
                    -0.13680767163830979
                  ]
                },
                {
                  "hoverinfo": "text",
                  "line": {
                    "color": "gray",
                    "width": 1
                  },
                  "mode": "lines+text",
                  "text": [
                    "<function Relationship.type at 0x0000029529ADB560> ($$30,072.48 )"
                  ],
                  "textposition": "middle center",
                  "type": "scatter",
                  "x": [
                    0.18810112849899968,
                    0.34647205747985943
                  ],
                  "y": [
                    -0.20590321494139524,
                    -0.38956163455563797
                  ]
                },
                {
                  "hoverinfo": "text",
                  "line": {
                    "color": "gray",
                    "width": 1
                  },
                  "mode": "lines+text",
                  "text": [
                    "<function Relationship.type at 0x0000029529ADB560> ($$18,421.20 )"
                  ],
                  "textposition": "middle center",
                  "type": "scatter",
                  "x": [
                    0.18810112849899968,
                    0.5101257357537092
                  ],
                  "y": [
                    -0.20590321494139524,
                    -0.0021349067174452493
                  ]
                }
              ],
              "layout": {
                "height": 800,
                "hovermode": "closest",
                "margin": {
                  "b": 20,
                  "l": 5,
                  "r": 5,
                  "t": 40
                },
                "showlegend": false,
                "template": {
                  "data": {
                    "bar": [
                      {
                        "error_x": {
                          "color": "#2a3f5f"
                        },
                        "error_y": {
                          "color": "#2a3f5f"
                        },
                        "marker": {
                          "line": {
                            "color": "#E5ECF6",
                            "width": 0.5
                          },
                          "pattern": {
                            "fillmode": "overlay",
                            "size": 10,
                            "solidity": 0.2
                          }
                        },
                        "type": "bar"
                      }
                    ],
                    "barpolar": [
                      {
                        "marker": {
                          "line": {
                            "color": "#E5ECF6",
                            "width": 0.5
                          },
                          "pattern": {
                            "fillmode": "overlay",
                            "size": 10,
                            "solidity": 0.2
                          }
                        },
                        "type": "barpolar"
                      }
                    ],
                    "carpet": [
                      {
                        "aaxis": {
                          "endlinecolor": "#2a3f5f",
                          "gridcolor": "white",
                          "linecolor": "white",
                          "minorgridcolor": "white",
                          "startlinecolor": "#2a3f5f"
                        },
                        "baxis": {
                          "endlinecolor": "#2a3f5f",
                          "gridcolor": "white",
                          "linecolor": "white",
                          "minorgridcolor": "white",
                          "startlinecolor": "#2a3f5f"
                        },
                        "type": "carpet"
                      }
                    ],
                    "choropleth": [
                      {
                        "colorbar": {
                          "outlinewidth": 0,
                          "ticks": ""
                        },
                        "type": "choropleth"
                      }
                    ],
                    "contour": [
                      {
                        "colorbar": {
                          "outlinewidth": 0,
                          "ticks": ""
                        },
                        "colorscale": [
                          [
                            0,
                            "#0d0887"
                          ],
                          [
                            0.1111111111111111,
                            "#46039f"
                          ],
                          [
                            0.2222222222222222,
                            "#7201a8"
                          ],
                          [
                            0.3333333333333333,
                            "#9c179e"
                          ],
                          [
                            0.4444444444444444,
                            "#bd3786"
                          ],
                          [
                            0.5555555555555556,
                            "#d8576b"
                          ],
                          [
                            0.6666666666666666,
                            "#ed7953"
                          ],
                          [
                            0.7777777777777778,
                            "#fb9f3a"
                          ],
                          [
                            0.8888888888888888,
                            "#fdca26"
                          ],
                          [
                            1,
                            "#f0f921"
                          ]
                        ],
                        "type": "contour"
                      }
                    ],
                    "contourcarpet": [
                      {
                        "colorbar": {
                          "outlinewidth": 0,
                          "ticks": ""
                        },
                        "type": "contourcarpet"
                      }
                    ],
                    "heatmap": [
                      {
                        "colorbar": {
                          "outlinewidth": 0,
                          "ticks": ""
                        },
                        "colorscale": [
                          [
                            0,
                            "#0d0887"
                          ],
                          [
                            0.1111111111111111,
                            "#46039f"
                          ],
                          [
                            0.2222222222222222,
                            "#7201a8"
                          ],
                          [
                            0.3333333333333333,
                            "#9c179e"
                          ],
                          [
                            0.4444444444444444,
                            "#bd3786"
                          ],
                          [
                            0.5555555555555556,
                            "#d8576b"
                          ],
                          [
                            0.6666666666666666,
                            "#ed7953"
                          ],
                          [
                            0.7777777777777778,
                            "#fb9f3a"
                          ],
                          [
                            0.8888888888888888,
                            "#fdca26"
                          ],
                          [
                            1,
                            "#f0f921"
                          ]
                        ],
                        "type": "heatmap"
                      }
                    ],
                    "heatmapgl": [
                      {
                        "colorbar": {
                          "outlinewidth": 0,
                          "ticks": ""
                        },
                        "colorscale": [
                          [
                            0,
                            "#0d0887"
                          ],
                          [
                            0.1111111111111111,
                            "#46039f"
                          ],
                          [
                            0.2222222222222222,
                            "#7201a8"
                          ],
                          [
                            0.3333333333333333,
                            "#9c179e"
                          ],
                          [
                            0.4444444444444444,
                            "#bd3786"
                          ],
                          [
                            0.5555555555555556,
                            "#d8576b"
                          ],
                          [
                            0.6666666666666666,
                            "#ed7953"
                          ],
                          [
                            0.7777777777777778,
                            "#fb9f3a"
                          ],
                          [
                            0.8888888888888888,
                            "#fdca26"
                          ],
                          [
                            1,
                            "#f0f921"
                          ]
                        ],
                        "type": "heatmapgl"
                      }
                    ],
                    "histogram": [
                      {
                        "marker": {
                          "pattern": {
                            "fillmode": "overlay",
                            "size": 10,
                            "solidity": 0.2
                          }
                        },
                        "type": "histogram"
                      }
                    ],
                    "histogram2d": [
                      {
                        "colorbar": {
                          "outlinewidth": 0,
                          "ticks": ""
                        },
                        "colorscale": [
                          [
                            0,
                            "#0d0887"
                          ],
                          [
                            0.1111111111111111,
                            "#46039f"
                          ],
                          [
                            0.2222222222222222,
                            "#7201a8"
                          ],
                          [
                            0.3333333333333333,
                            "#9c179e"
                          ],
                          [
                            0.4444444444444444,
                            "#bd3786"
                          ],
                          [
                            0.5555555555555556,
                            "#d8576b"
                          ],
                          [
                            0.6666666666666666,
                            "#ed7953"
                          ],
                          [
                            0.7777777777777778,
                            "#fb9f3a"
                          ],
                          [
                            0.8888888888888888,
                            "#fdca26"
                          ],
                          [
                            1,
                            "#f0f921"
                          ]
                        ],
                        "type": "histogram2d"
                      }
                    ],
                    "histogram2dcontour": [
                      {
                        "colorbar": {
                          "outlinewidth": 0,
                          "ticks": ""
                        },
                        "colorscale": [
                          [
                            0,
                            "#0d0887"
                          ],
                          [
                            0.1111111111111111,
                            "#46039f"
                          ],
                          [
                            0.2222222222222222,
                            "#7201a8"
                          ],
                          [
                            0.3333333333333333,
                            "#9c179e"
                          ],
                          [
                            0.4444444444444444,
                            "#bd3786"
                          ],
                          [
                            0.5555555555555556,
                            "#d8576b"
                          ],
                          [
                            0.6666666666666666,
                            "#ed7953"
                          ],
                          [
                            0.7777777777777778,
                            "#fb9f3a"
                          ],
                          [
                            0.8888888888888888,
                            "#fdca26"
                          ],
                          [
                            1,
                            "#f0f921"
                          ]
                        ],
                        "type": "histogram2dcontour"
                      }
                    ],
                    "mesh3d": [
                      {
                        "colorbar": {
                          "outlinewidth": 0,
                          "ticks": ""
                        },
                        "type": "mesh3d"
                      }
                    ],
                    "parcoords": [
                      {
                        "line": {
                          "colorbar": {
                            "outlinewidth": 0,
                            "ticks": ""
                          }
                        },
                        "type": "parcoords"
                      }
                    ],
                    "pie": [
                      {
                        "automargin": true,
                        "type": "pie"
                      }
                    ],
                    "scatter": [
                      {
                        "fillpattern": {
                          "fillmode": "overlay",
                          "size": 10,
                          "solidity": 0.2
                        },
                        "type": "scatter"
                      }
                    ],
                    "scatter3d": [
                      {
                        "line": {
                          "colorbar": {
                            "outlinewidth": 0,
                            "ticks": ""
                          }
                        },
                        "marker": {
                          "colorbar": {
                            "outlinewidth": 0,
                            "ticks": ""
                          }
                        },
                        "type": "scatter3d"
                      }
                    ],
                    "scattercarpet": [
                      {
                        "marker": {
                          "colorbar": {
                            "outlinewidth": 0,
                            "ticks": ""
                          }
                        },
                        "type": "scattercarpet"
                      }
                    ],
                    "scattergeo": [
                      {
                        "marker": {
                          "colorbar": {
                            "outlinewidth": 0,
                            "ticks": ""
                          }
                        },
                        "type": "scattergeo"
                      }
                    ],
                    "scattergl": [
                      {
                        "marker": {
                          "colorbar": {
                            "outlinewidth": 0,
                            "ticks": ""
                          }
                        },
                        "type": "scattergl"
                      }
                    ],
                    "scattermapbox": [
                      {
                        "marker": {
                          "colorbar": {
                            "outlinewidth": 0,
                            "ticks": ""
                          }
                        },
                        "type": "scattermapbox"
                      }
                    ],
                    "scatterpolar": [
                      {
                        "marker": {
                          "colorbar": {
                            "outlinewidth": 0,
                            "ticks": ""
                          }
                        },
                        "type": "scatterpolar"
                      }
                    ],
                    "scatterpolargl": [
                      {
                        "marker": {
                          "colorbar": {
                            "outlinewidth": 0,
                            "ticks": ""
                          }
                        },
                        "type": "scatterpolargl"
                      }
                    ],
                    "scatterternary": [
                      {
                        "marker": {
                          "colorbar": {
                            "outlinewidth": 0,
                            "ticks": ""
                          }
                        },
                        "type": "scatterternary"
                      }
                    ],
                    "surface": [
                      {
                        "colorbar": {
                          "outlinewidth": 0,
                          "ticks": ""
                        },
                        "colorscale": [
                          [
                            0,
                            "#0d0887"
                          ],
                          [
                            0.1111111111111111,
                            "#46039f"
                          ],
                          [
                            0.2222222222222222,
                            "#7201a8"
                          ],
                          [
                            0.3333333333333333,
                            "#9c179e"
                          ],
                          [
                            0.4444444444444444,
                            "#bd3786"
                          ],
                          [
                            0.5555555555555556,
                            "#d8576b"
                          ],
                          [
                            0.6666666666666666,
                            "#ed7953"
                          ],
                          [
                            0.7777777777777778,
                            "#fb9f3a"
                          ],
                          [
                            0.8888888888888888,
                            "#fdca26"
                          ],
                          [
                            1,
                            "#f0f921"
                          ]
                        ],
                        "type": "surface"
                      }
                    ],
                    "table": [
                      {
                        "cells": {
                          "fill": {
                            "color": "#EBF0F8"
                          },
                          "line": {
                            "color": "white"
                          }
                        },
                        "header": {
                          "fill": {
                            "color": "#C8D4E3"
                          },
                          "line": {
                            "color": "white"
                          }
                        },
                        "type": "table"
                      }
                    ]
                  },
                  "layout": {
                    "annotationdefaults": {
                      "arrowcolor": "#2a3f5f",
                      "arrowhead": 0,
                      "arrowwidth": 1
                    },
                    "autotypenumbers": "strict",
                    "coloraxis": {
                      "colorbar": {
                        "outlinewidth": 0,
                        "ticks": ""
                      }
                    },
                    "colorscale": {
                      "diverging": [
                        [
                          0,
                          "#8e0152"
                        ],
                        [
                          0.1,
                          "#c51b7d"
                        ],
                        [
                          0.2,
                          "#de77ae"
                        ],
                        [
                          0.3,
                          "#f1b6da"
                        ],
                        [
                          0.4,
                          "#fde0ef"
                        ],
                        [
                          0.5,
                          "#f7f7f7"
                        ],
                        [
                          0.6,
                          "#e6f5d0"
                        ],
                        [
                          0.7,
                          "#b8e186"
                        ],
                        [
                          0.8,
                          "#7fbc41"
                        ],
                        [
                          0.9,
                          "#4d9221"
                        ],
                        [
                          1,
                          "#276419"
                        ]
                      ],
                      "sequential": [
                        [
                          0,
                          "#0d0887"
                        ],
                        [
                          0.1111111111111111,
                          "#46039f"
                        ],
                        [
                          0.2222222222222222,
                          "#7201a8"
                        ],
                        [
                          0.3333333333333333,
                          "#9c179e"
                        ],
                        [
                          0.4444444444444444,
                          "#bd3786"
                        ],
                        [
                          0.5555555555555556,
                          "#d8576b"
                        ],
                        [
                          0.6666666666666666,
                          "#ed7953"
                        ],
                        [
                          0.7777777777777778,
                          "#fb9f3a"
                        ],
                        [
                          0.8888888888888888,
                          "#fdca26"
                        ],
                        [
                          1,
                          "#f0f921"
                        ]
                      ],
                      "sequentialminus": [
                        [
                          0,
                          "#0d0887"
                        ],
                        [
                          0.1111111111111111,
                          "#46039f"
                        ],
                        [
                          0.2222222222222222,
                          "#7201a8"
                        ],
                        [
                          0.3333333333333333,
                          "#9c179e"
                        ],
                        [
                          0.4444444444444444,
                          "#bd3786"
                        ],
                        [
                          0.5555555555555556,
                          "#d8576b"
                        ],
                        [
                          0.6666666666666666,
                          "#ed7953"
                        ],
                        [
                          0.7777777777777778,
                          "#fb9f3a"
                        ],
                        [
                          0.8888888888888888,
                          "#fdca26"
                        ],
                        [
                          1,
                          "#f0f921"
                        ]
                      ]
                    },
                    "colorway": [
                      "#636efa",
                      "#EF553B",
                      "#00cc96",
                      "#ab63fa",
                      "#FFA15A",
                      "#19d3f3",
                      "#FF6692",
                      "#B6E880",
                      "#FF97FF",
                      "#FECB52"
                    ],
                    "font": {
                      "color": "#2a3f5f"
                    },
                    "geo": {
                      "bgcolor": "white",
                      "lakecolor": "white",
                      "landcolor": "#E5ECF6",
                      "showlakes": true,
                      "showland": true,
                      "subunitcolor": "white"
                    },
                    "hoverlabel": {
                      "align": "left"
                    },
                    "hovermode": "closest",
                    "mapbox": {
                      "style": "light"
                    },
                    "paper_bgcolor": "white",
                    "plot_bgcolor": "#E5ECF6",
                    "polar": {
                      "angularaxis": {
                        "gridcolor": "white",
                        "linecolor": "white",
                        "ticks": ""
                      },
                      "bgcolor": "#E5ECF6",
                      "radialaxis": {
                        "gridcolor": "white",
                        "linecolor": "white",
                        "ticks": ""
                      }
                    },
                    "scene": {
                      "xaxis": {
                        "backgroundcolor": "#E5ECF6",
                        "gridcolor": "white",
                        "gridwidth": 2,
                        "linecolor": "white",
                        "showbackground": true,
                        "ticks": "",
                        "zerolinecolor": "white"
                      },
                      "yaxis": {
                        "backgroundcolor": "#E5ECF6",
                        "gridcolor": "white",
                        "gridwidth": 2,
                        "linecolor": "white",
                        "showbackground": true,
                        "ticks": "",
                        "zerolinecolor": "white"
                      },
                      "zaxis": {
                        "backgroundcolor": "#E5ECF6",
                        "gridcolor": "white",
                        "gridwidth": 2,
                        "linecolor": "white",
                        "showbackground": true,
                        "ticks": "",
                        "zerolinecolor": "white"
                      }
                    },
                    "shapedefaults": {
                      "line": {
                        "color": "#2a3f5f"
                      }
                    },
                    "ternary": {
                      "aaxis": {
                        "gridcolor": "white",
                        "linecolor": "white",
                        "ticks": ""
                      },
                      "baxis": {
                        "gridcolor": "white",
                        "linecolor": "white",
                        "ticks": ""
                      },
                      "bgcolor": "#E5ECF6",
                      "caxis": {
                        "gridcolor": "white",
                        "linecolor": "white",
                        "ticks": ""
                      }
                    },
                    "title": {
                      "x": 0.05
                    },
                    "xaxis": {
                      "automargin": true,
                      "gridcolor": "white",
                      "linecolor": "white",
                      "ticks": "",
                      "title": {
                        "standoff": 15
                      },
                      "zerolinecolor": "white",
                      "zerolinewidth": 2
                    },
                    "yaxis": {
                      "automargin": true,
                      "gridcolor": "white",
                      "linecolor": "white",
                      "ticks": "",
                      "title": {
                        "standoff": 15
                      },
                      "zerolinecolor": "white",
                      "zerolinewidth": 2
                    }
                  }
                },
                "title": {
                  "font": {
                    "size": 16
                  },
                  "text": "Graph from Neo4j Data"
                },
                "width": 1200,
                "xaxis": {
                  "showgrid": false,
                  "showticklabels": false,
                  "zeroline": false
                },
                "yaxis": {
                  "showgrid": false,
                  "showticklabels": false,
                  "zeroline": false
                }
              }
            }
          },
          "metadata": {},
          "output_type": "display_data"
        }
      ],
      "source": [
        "fig.add_trace(go.Scatter(\n",
        "    x=[pos[node][0] for node in G.nodes()],\n",
        "    y=[pos[node][1] for node in G.nodes()],\n",
        "    mode='markers+text',\n",
        "    text=list(G.nodes()),\n",
        "    marker=dict(\n",
        "        size=[15 * G.degree(node) for node in G.nodes()],\n",
        "        color=['blue' if G.nodes[node]['label'].startswith('Product') else 'red' for node in G.nodes()]\n",
        "    ),\n",
        "    hoverinfo='text'\n",
        "))\n",
        "\n",
        "for edge in G.edges(data=True):\n",
        "    x0, y0 = pos[edge[0]]\n",
        "    x1, y1 = pos[edge[1]]\n",
        "    fig.add_trace(go.Scatter(\n",
        "        x=[x0, x1], y=[y0, y1],\n",
        "        mode='lines+text',\n",
        "        text=[edge[2]['label']],  # Get label from edge data\n",
        "        textposition='middle center',\n",
        "        line=dict(color='gray', width=1),\n",
        "        hoverinfo='text'\n",
        "    ))\n",
        "\n",
        "fig.update_layout(\n",
        "    title='Graph from Neo4j Data',\n",
        "    titlefont_size=16,\n",
        "    showlegend=False,\n",
        "    hovermode='closest',\n",
        "    margin=dict(b=20, l=5, r=5, t=40),\n",
        "    xaxis=dict(showgrid=False, zeroline=False, showticklabels=False),\n",
        "    yaxis=dict(showgrid=False, zeroline=False, showticklabels=False),\n",
        "    width=1200, height=800,\n",
        ")\n",
        "\n",
        "fig.show()"
      ]
    }
  ],
  "metadata": {
    "colab": {
      "provenance": []
    },
    "kernelspec": {
      "display_name": "Python 3",
      "language": "python",
      "name": "python3"
    },
    "language_info": {
      "codemirror_mode": {
        "name": "ipython",
        "version": 3
      },
      "file_extension": ".py",
      "mimetype": "text/x-python",
      "name": "python",
      "nbconvert_exporter": "python",
      "pygments_lexer": "ipython3",
      "version": "3.11.0"
    },
    "vscode": {
      "interpreter": {
        "hash": "777e8f00aedb948e64473679b940d706c506a2a0dc95c3ffea1fff4bb81714b1"
      }
    }
  },
  "nbformat": 4,
  "nbformat_minor": 0
}
