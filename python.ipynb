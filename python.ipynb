{
 "cells": [
  {
   "cell_type": "code",
   "execution_count": 2,
   "metadata": {},
   "outputs": [
    {
     "name": "stdout",
     "output_type": "stream",
     "text": [
      "   UserID FirstName LastName DateOfBirth                  Email   PhoneNumber  \\\n",
      "0       1     Alice    Smith  1990-06-01  alice.smith@email.com  123-456-7890   \n",
      "1       1     Alice    Smith  1990-06-01  alice.smith@email.com  123-456-7890   \n",
      "2       2       Bob  Johnson  1985-08-15  bob.johnson@email.com  987-654-3210   \n",
      "3       3     Carol      Lee  1992-12-22    carol.lee@email.com  456-789-1234   \n",
      "\n",
      "   ProductID PurchaseDate  Amount  \n",
      "0        101   2022-05-20   24.99  \n",
      "1        102   2022-05-22   15.75  \n",
      "2        103   2022-06-01   45.00  \n",
      "3        104   2022-07-15   29.99  \n"
     ]
    }
   ],
   "source": [
    "import pandas as pd\n",
    "\n",
    "# Sample data for Dataset 1: User Information\n",
    "data1 = {\n",
    "    'UserID': [1, 2, 3],\n",
    "    'FirstName': ['Alice', 'Bob', 'Carol'],\n",
    "    'LastName': ['Smith', 'Johnson', 'Lee'],\n",
    "    'DateOfBirth': ['1990-06-01', '1985-08-15', '1992-12-22']\n",
    "}\n",
    "\n",
    "# Sample data for Dataset 2: User Contact Details\n",
    "data2 = {\n",
    "    'UserID': [1, 2, 3],\n",
    "    'Email': ['alice.smith@email.com', 'bob.johnson@email.com', 'carol.lee@email.com'],\n",
    "    'PhoneNumber': ['123-456-7890', '987-654-3210', '456-789-1234']\n",
    "}\n",
    "\n",
    "# Sample data for Dataset 3: User Purchase History\n",
    "data3 = {\n",
    "    'UserID': [1, 1, 2, 3],\n",
    "    'ProductID': [101, 102, 103, 104],\n",
    "    'PurchaseDate': ['2022-05-20', '2022-05-22', '2022-06-01', '2022-07-15'],\n",
    "    'Amount': [24.99, 15.75, 45.00, 29.99]\n",
    "}\n",
    "\n",
    "# Creating DataFrames from the dictionaries\n",
    "df1 = pd.DataFrame(data1)\n",
    "df2 = pd.DataFrame(data2)\n",
    "df3 = pd.DataFrame(data3)\n",
    "\n",
    "# Merging the datasets on 'UserID'\n",
    "df_merged = pd.merge(df1, df2, on='UserID', how='inner')\n",
    "df_final = pd.merge(df_merged, df3, on='UserID', how='inner')\n",
    "\n",
    "# Display the final merged DataFrame\n",
    "print(df_final)\n"
   ]
  }
 ],
 "metadata": {
  "kernelspec": {
   "display_name": "notebook",
   "language": "python",
   "name": "python3"
  },
  "language_info": {
   "codemirror_mode": {
    "name": "ipython",
    "version": 3
   },
   "file_extension": ".py",
   "mimetype": "text/x-python",
   "name": "python",
   "nbconvert_exporter": "python",
   "pygments_lexer": "ipython3",
   "version": "3.11.7"
  }
 },
 "nbformat": 4,
 "nbformat_minor": 2
}
